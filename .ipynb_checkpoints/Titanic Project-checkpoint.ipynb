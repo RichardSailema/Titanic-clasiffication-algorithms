{
 "cells": [
  {
   "cell_type": "markdown",
   "id": "b22a85b8",
   "metadata": {},
   "source": [
    "# Proyecto Titanic"
   ]
  },
  {
   "cell_type": "markdown",
   "id": "592a1eaa",
   "metadata": {},
   "source": [
    "### El objetivo de este proyecto es predecir correctamente si alguién sobrevivió al naufragio del Titanic "
   ]
  },
  {
   "cell_type": "markdown",
   "id": "f5884997",
   "metadata": {},
   "source": [
    "## Indice General\n",
    "\n",
    "### 1. Entendiendo la forma de los datos (Histogramas, boxplot, etc)\n",
    "### 2. Limpieza de datos\n",
    "### 3. Ingeniería de features\n",
    "### 4. Procesamiento de datos para el modelo\n",
    "### 5. Construyendo un modelo básico\n",
    "### 6. Ajustando el modelo\n",
    "### 7. Construcción de modeos de conjuntos"
   ]
  },
  {
   "cell_type": "code",
   "execution_count": 1,
   "id": "bdc3bcf6",
   "metadata": {},
   "outputs": [],
   "source": [
    "# Importamos librerías necesarias\n",
    "\n",
    "import numpy as np\n",
    "import pandas as pd\n",
    "import seaborn as sns\n",
    "import matplotlib.pyplot as plt\n",
    "import os\n"
   ]
  },
  {
   "cell_type": "code",
   "execution_count": 2,
   "id": "75b3d098",
   "metadata": {},
   "outputs": [
    {
     "data": {
      "text/plain": [
       "Index(['PassengerId', 'Survived', 'Pclass', 'Name', 'Sex', 'Age', 'SibSp',\n",
       "       'Parch', 'Ticket', 'Fare', 'Cabin', 'Embarked', 'train_test'],\n",
       "      dtype='object')"
      ]
     },
     "execution_count": 2,
     "metadata": {},
     "output_type": "execute_result"
    }
   ],
   "source": [
    "training = pd.read_csv('datasets/train.csv')\n",
    "test = pd.read_csv('datasets/test.csv')\n",
    "\n",
    "# Añadimos una columna más a cada dataset, llamada'train_test' cuyos valores 1 para entrenamiento 0 para pruebas  \n",
    "training['train_test'] = 1\n",
    "test['train_test'] = 0\n",
    "test['Survived'] = np.NaN\n",
    "# Concatenamos ambos datasets\n",
    "all_data = pd.concat([training, test])\n",
    "\n",
    "%matplotlib inline\n",
    "all_data.columns"
   ]
  },
  {
   "cell_type": "markdown",
   "id": "6a988eaa",
   "metadata": {},
   "source": [
    "### Planificando el proyecto"
   ]
  },
  {
   "cell_type": "markdown",
   "id": "af3bcf2a",
   "metadata": {},
   "source": [
    "A continuación se muestra el esquema aproximado que se creó para este proyecto.\n",
    "\n",
    "- Entendiendo la naturaleza de los datos\n",
    "- Histograma y boxplot\n",
    "- CountValues\n",
    "- Datos Faltantes\n",
    "- Correlación entre métricas\n",
    "- Métricas\n",
    "- Exploración de temas interesantes\n",
    "  - ¿Los ricos sobreviven?\n",
    "  - Por localidad\n",
    "  - Scatterplot de Age vs Ticket Price\n",
    "  - Variable jovén y rico\n",
    "  - Gasto total\n",
    "- Ingeniería de características\n",
    "- Preprocesar juntos los datos o usar una transformada\n",
    "  - Usar etiquetas para entrenamiento y test\n",
    "- Escaland0"
   ]
  },
  {
   "cell_type": "markdown",
   "id": "52cd1a16",
   "metadata": {},
   "source": [
    "### Exploración ligera de datos\n",
    "\n",
    "1. Para datos numéricos\n",
    "- Crear histogramas para entender las distribuciones\n",
    "\n",
    "2. Para datos categóricos\n",
    "- Crear bar charts para entender el balance de las clases\n",
    "- Crear pivot tables para entender relaciones entre los sobrevivientes"
   ]
  },
  {
   "cell_type": "code",
   "execution_count": 3,
   "id": "9c85ce8d",
   "metadata": {},
   "outputs": [
    {
     "name": "stdout",
     "output_type": "stream",
     "text": [
      "<class 'pandas.core.frame.DataFrame'>\n",
      "RangeIndex: 891 entries, 0 to 890\n",
      "Data columns (total 13 columns):\n",
      " #   Column       Non-Null Count  Dtype  \n",
      "---  ------       --------------  -----  \n",
      " 0   PassengerId  891 non-null    int64  \n",
      " 1   Survived     891 non-null    int64  \n",
      " 2   Pclass       891 non-null    int64  \n",
      " 3   Name         891 non-null    object \n",
      " 4   Sex          891 non-null    object \n",
      " 5   Age          714 non-null    float64\n",
      " 6   SibSp        891 non-null    int64  \n",
      " 7   Parch        891 non-null    int64  \n",
      " 8   Ticket       891 non-null    object \n",
      " 9   Fare         891 non-null    float64\n",
      " 10  Cabin        204 non-null    object \n",
      " 11  Embarked     889 non-null    object \n",
      " 12  train_test   891 non-null    int64  \n",
      "dtypes: float64(2), int64(6), object(5)\n",
      "memory usage: 90.6+ KB\n"
     ]
    }
   ],
   "source": [
    "# Un vistazo rápido de nuestros tipos de datos y conteos nulos\n",
    "training.info()"
   ]
  },
  {
   "cell_type": "markdown",
   "id": "b55cc76e",
   "metadata": {},
   "source": [
    "Se puede obsevar a simple vista que las features con más datos faltantes (miss values) son 'Age' o edad y 'Cabin' o cabina."
   ]
  },
  {
   "cell_type": "code",
   "execution_count": 4,
   "id": "e80df422",
   "metadata": {},
   "outputs": [
    {
     "data": {
      "text/html": [
       "<div>\n",
       "<style scoped>\n",
       "    .dataframe tbody tr th:only-of-type {\n",
       "        vertical-align: middle;\n",
       "    }\n",
       "\n",
       "    .dataframe tbody tr th {\n",
       "        vertical-align: top;\n",
       "    }\n",
       "\n",
       "    .dataframe thead th {\n",
       "        text-align: right;\n",
       "    }\n",
       "</style>\n",
       "<table border=\"1\" class=\"dataframe\">\n",
       "  <thead>\n",
       "    <tr style=\"text-align: right;\">\n",
       "      <th></th>\n",
       "      <th>PassengerId</th>\n",
       "      <th>Survived</th>\n",
       "      <th>Pclass</th>\n",
       "      <th>Age</th>\n",
       "      <th>SibSp</th>\n",
       "      <th>Parch</th>\n",
       "      <th>Fare</th>\n",
       "      <th>train_test</th>\n",
       "    </tr>\n",
       "  </thead>\n",
       "  <tbody>\n",
       "    <tr>\n",
       "      <th>count</th>\n",
       "      <td>891.000000</td>\n",
       "      <td>891.000000</td>\n",
       "      <td>891.000000</td>\n",
       "      <td>714.000000</td>\n",
       "      <td>891.000000</td>\n",
       "      <td>891.000000</td>\n",
       "      <td>891.000000</td>\n",
       "      <td>891.0</td>\n",
       "    </tr>\n",
       "    <tr>\n",
       "      <th>mean</th>\n",
       "      <td>446.000000</td>\n",
       "      <td>0.383838</td>\n",
       "      <td>2.308642</td>\n",
       "      <td>29.699118</td>\n",
       "      <td>0.523008</td>\n",
       "      <td>0.381594</td>\n",
       "      <td>32.204208</td>\n",
       "      <td>1.0</td>\n",
       "    </tr>\n",
       "    <tr>\n",
       "      <th>std</th>\n",
       "      <td>257.353842</td>\n",
       "      <td>0.486592</td>\n",
       "      <td>0.836071</td>\n",
       "      <td>14.526497</td>\n",
       "      <td>1.102743</td>\n",
       "      <td>0.806057</td>\n",
       "      <td>49.693429</td>\n",
       "      <td>0.0</td>\n",
       "    </tr>\n",
       "    <tr>\n",
       "      <th>min</th>\n",
       "      <td>1.000000</td>\n",
       "      <td>0.000000</td>\n",
       "      <td>1.000000</td>\n",
       "      <td>0.420000</td>\n",
       "      <td>0.000000</td>\n",
       "      <td>0.000000</td>\n",
       "      <td>0.000000</td>\n",
       "      <td>1.0</td>\n",
       "    </tr>\n",
       "    <tr>\n",
       "      <th>25%</th>\n",
       "      <td>223.500000</td>\n",
       "      <td>0.000000</td>\n",
       "      <td>2.000000</td>\n",
       "      <td>20.125000</td>\n",
       "      <td>0.000000</td>\n",
       "      <td>0.000000</td>\n",
       "      <td>7.910400</td>\n",
       "      <td>1.0</td>\n",
       "    </tr>\n",
       "    <tr>\n",
       "      <th>50%</th>\n",
       "      <td>446.000000</td>\n",
       "      <td>0.000000</td>\n",
       "      <td>3.000000</td>\n",
       "      <td>28.000000</td>\n",
       "      <td>0.000000</td>\n",
       "      <td>0.000000</td>\n",
       "      <td>14.454200</td>\n",
       "      <td>1.0</td>\n",
       "    </tr>\n",
       "    <tr>\n",
       "      <th>75%</th>\n",
       "      <td>668.500000</td>\n",
       "      <td>1.000000</td>\n",
       "      <td>3.000000</td>\n",
       "      <td>38.000000</td>\n",
       "      <td>1.000000</td>\n",
       "      <td>0.000000</td>\n",
       "      <td>31.000000</td>\n",
       "      <td>1.0</td>\n",
       "    </tr>\n",
       "    <tr>\n",
       "      <th>max</th>\n",
       "      <td>891.000000</td>\n",
       "      <td>1.000000</td>\n",
       "      <td>3.000000</td>\n",
       "      <td>80.000000</td>\n",
       "      <td>8.000000</td>\n",
       "      <td>6.000000</td>\n",
       "      <td>512.329200</td>\n",
       "      <td>1.0</td>\n",
       "    </tr>\n",
       "  </tbody>\n",
       "</table>\n",
       "</div>"
      ],
      "text/plain": [
       "       PassengerId    Survived      Pclass         Age       SibSp  \\\n",
       "count   891.000000  891.000000  891.000000  714.000000  891.000000   \n",
       "mean    446.000000    0.383838    2.308642   29.699118    0.523008   \n",
       "std     257.353842    0.486592    0.836071   14.526497    1.102743   \n",
       "min       1.000000    0.000000    1.000000    0.420000    0.000000   \n",
       "25%     223.500000    0.000000    2.000000   20.125000    0.000000   \n",
       "50%     446.000000    0.000000    3.000000   28.000000    0.000000   \n",
       "75%     668.500000    1.000000    3.000000   38.000000    1.000000   \n",
       "max     891.000000    1.000000    3.000000   80.000000    8.000000   \n",
       "\n",
       "            Parch        Fare  train_test  \n",
       "count  891.000000  891.000000       891.0  \n",
       "mean     0.381594   32.204208         1.0  \n",
       "std      0.806057   49.693429         0.0  \n",
       "min      0.000000    0.000000         1.0  \n",
       "25%      0.000000    7.910400         1.0  \n",
       "50%      0.000000   14.454200         1.0  \n",
       "75%      0.000000   31.000000         1.0  \n",
       "max      6.000000  512.329200         1.0  "
      ]
     },
     "execution_count": 4,
     "metadata": {},
     "output_type": "execute_result"
    }
   ],
   "source": [
    "# Para un mejor entendimiento de los datos numéricos, usaremos el método describe(). \n",
    "#Este nos da un entendimiento de las medidas de tendecia central de los datos (promedio, desviación estándar,min,max,etc)\n",
    "training.describe()"
   ]
  },
  {
   "cell_type": "code",
   "execution_count": 5,
   "id": "a627b97a",
   "metadata": {},
   "outputs": [
    {
     "data": {
      "text/plain": [
       "Index(['PassengerId', 'Survived', 'Pclass', 'Age', 'SibSp', 'Parch', 'Fare',\n",
       "       'train_test'],\n",
       "      dtype='object')"
      ]
     },
     "execution_count": 5,
     "metadata": {},
     "output_type": "execute_result"
    }
   ],
   "source": [
    "# Una manera rápida de separar columnas numéricas\n",
    "training.describe().columns"
   ]
  },
  {
   "cell_type": "code",
   "execution_count": 6,
   "id": "c67f0236",
   "metadata": {},
   "outputs": [],
   "source": [
    "# Observemos los valores numericos y categoricos por separado\n",
    "df_num = training[['Age', 'SibSp', 'Parch', 'Fare']]\n",
    "df_cat = training[['Survived',  'Pclass', 'Sex', 'Ticket', 'Cabin','Embarked']]"
   ]
  },
  {
   "cell_type": "code",
   "execution_count": 7,
   "id": "7fc19b34",
   "metadata": {},
   "outputs": [
    {
     "data": {
      "image/png": "[encoded data removed]",
      "text/plain": [
       "<Figure size 432x288 with 1 Axes>"
      ]
     },
     "metadata": {
      "needs_background": "light"
     },
     "output_type": "display_data"
    },
    {
     "data": {
      "image/png": "[encoded data removed]",
      "text/plain": [
       "<Figure size 432x288 with 1 Axes>"
      ]
     },
     "metadata": {
      "needs_background": "light"
     },
     "output_type": "display_data"
    },
    {
     "data": {
      "image/png": "[encoded data removed]",
      "text/plain": [
       "<Figure size 432x288 with 1 Axes>"
      ]
     },
     "metadata": {
      "needs_background": "light"
     },
     "output_type": "display_data"
    },
    {
     "data": {
      "image/png": "[encoded data removed]",
      "text/plain": [
       "<Figure size 432x288 with 1 Axes>"
      ]
     },
     "metadata": {
      "needs_background": "light"
     },
     "output_type": "display_data"
    }
   ],
   "source": [
    "# Distribuciones para todas las variables numéricas\n",
    "for i in df_num.columns:\n",
    "    plt.hist(df_num[i])\n",
    "    plt.title(i)\n",
    "    plt.show()"
   ]
  },
  {
   "cell_type": "markdown",
   "id": "dbd6539b",
   "metadata": {},
   "source": [
    "Deberíamos considerar normalizar las distribuciones asimétricas."
   ]
  },
  {
   "cell_type": "markdown",
   "id": "c6dccc50",
   "metadata": {},
   "source": [
    "#### Heatmap\n",
    "\n",
    "Vamos a determinar una matriz de correlación entre las variables numéricas y crear un mapa de calor para tener un mejor visualización."
   ]
  },
  {
   "cell_type": "code",
   "execution_count": 8,
   "id": "d3d5a6e9",
   "metadata": {},
   "outputs": [
    {
     "name": "stdout",
     "output_type": "stream",
     "text": [
      "            Age     SibSp     Parch      Fare\n",
      "Age    1.000000 -0.308247 -0.189119  0.096067\n",
      "SibSp -0.308247  1.000000  0.414838  0.159651\n",
      "Parch -0.189119  0.414838  1.000000  0.216225\n",
      "Fare   0.096067  0.159651  0.216225  1.000000\n"
     ]
    },
    {
     "data": {
      "image/png": "[encoded data removed]",
      "text/plain": [
       "<Figure size 432x288 with 2 Axes>"
      ]
     },
     "metadata": {
      "needs_background": "light"
     },
     "output_type": "display_data"
    }
   ],
   "source": [
    "print(df_num.corr())\n",
    "sns.heatmap(df_num.corr(), cbar=True,annot=True,yticklabels= df_num.columns , \n",
    "            xticklabels=df_num.columns)\n",
    "plt.show()"
   ]
  },
  {
   "cell_type": "markdown",
   "id": "874eb091",
   "metadata": {},
   "source": [
    "Veamos el numero de sobrevivientes y no sobrevivientes de nuestro set de entrenamiento"
   ]
  },
  {
   "cell_type": "code",
   "execution_count": 9,
   "id": "933d0f43",
   "metadata": {},
   "outputs": [
    {
     "name": "stdout",
     "output_type": "stream",
     "text": [
      "Número de sobrevivientes: 342\n",
      "Número de NO sobrevivientes: 549\n",
      "\n",
      "Total: 891\n"
     ]
    }
   ],
   "source": [
    "survived = df_cat['Survived'].value_counts()[1]\n",
    "no_survided = df_cat['Survived'].value_counts()[0]\n",
    "\n",
    "print(f\"Número de sobrevivientes: {survived}\")\n",
    "print(f\"Número de NO sobrevivientes: {no_survided}\\n\")\n",
    "print(f\"Total: {survived + no_survided}\")\n"
   ]
  },
  {
   "cell_type": "markdown",
   "id": "2b26869c",
   "metadata": {},
   "source": [
    "#### Pivot Table\n",
    "\n",
    "Con Pivot Table podemos dividir a nuestra población por grupos y determinar alguna medida de interés y entender más nuestros datos."
   ]
  },
  {
   "cell_type": "code",
   "execution_count": 10,
   "id": "4f8941df",
   "metadata": {},
   "outputs": [
    {
     "data": {
      "text/html": [
       "<div>\n",
       "<style scoped>\n",
       "    .dataframe tbody tr th:only-of-type {\n",
       "        vertical-align: middle;\n",
       "    }\n",
       "\n",
       "    .dataframe tbody tr th {\n",
       "        vertical-align: top;\n",
       "    }\n",
       "\n",
       "    .dataframe thead th {\n",
       "        text-align: right;\n",
       "    }\n",
       "</style>\n",
       "<table border=\"1\" class=\"dataframe\">\n",
       "  <thead>\n",
       "    <tr style=\"text-align: right;\">\n",
       "      <th></th>\n",
       "      <th>Age</th>\n",
       "      <th>Fare</th>\n",
       "      <th>Parch</th>\n",
       "      <th>SibSp</th>\n",
       "    </tr>\n",
       "    <tr>\n",
       "      <th>Survived</th>\n",
       "      <th></th>\n",
       "      <th></th>\n",
       "      <th></th>\n",
       "      <th></th>\n",
       "    </tr>\n",
       "  </thead>\n",
       "  <tbody>\n",
       "    <tr>\n",
       "      <th>0</th>\n",
       "      <td>30.626179</td>\n",
       "      <td>22.117887</td>\n",
       "      <td>0.329690</td>\n",
       "      <td>0.553734</td>\n",
       "    </tr>\n",
       "    <tr>\n",
       "      <th>1</th>\n",
       "      <td>28.343690</td>\n",
       "      <td>48.395408</td>\n",
       "      <td>0.464912</td>\n",
       "      <td>0.473684</td>\n",
       "    </tr>\n",
       "  </tbody>\n",
       "</table>\n",
       "</div>"
      ],
      "text/plain": [
       "                Age       Fare     Parch     SibSp\n",
       "Survived                                          \n",
       "0         30.626179  22.117887  0.329690  0.553734\n",
       "1         28.343690  48.395408  0.464912  0.473684"
      ]
     },
     "execution_count": 10,
     "metadata": {},
     "output_type": "execute_result"
    }
   ],
   "source": [
    "# Comparamos la tasa de sobrevivencia a través deAge, SibSp, Parch, y Fare \n",
    "pd.pivot_table(training, index = 'Survived', values = ['Age','SibSp','Parch','Fare'], aggfunc = 'mean' )"
   ]
  },
  {
   "cell_type": "markdown",
   "id": "5ef0bdc9",
   "metadata": {},
   "source": [
    "#### Count Plot\n",
    "\n",
    "Mediante un count plot que es un diagrama de conteo o frecuencia para una variable categórica, vamos a captar de manera visual la cantidad de personas por: supervivencia, clases, sexo, ticket, cabina y embarque "
   ]
  },
  {
   "cell_type": "code",
   "execution_count": 11,
   "id": "ba5b20a7",
   "metadata": {},
   "outputs": [
    {
     "data": {
      "image/png": "[encoded data removed]",
      "text/plain": [
       "<Figure size 432x288 with 1 Axes>"
      ]
     },
     "metadata": {
      "needs_background": "light"
     },
     "output_type": "display_data"
    },
    {
     "data": {
      "image/png": "[encoded data removed]",
      "text/plain": [
       "<Figure size 432x288 with 1 Axes>"
      ]
     },
     "metadata": {
      "needs_background": "light"
     },
     "output_type": "display_data"
    },
    {
     "data": {
      "image/png": "[encoded data removed]",
      "text/plain": [
       "<Figure size 432x288 with 1 Axes>"
      ]
     },
     "metadata": {
      "needs_background": "light"
     },
     "output_type": "display_data"
    },
    {
     "data": {
      "image/png": "[encoded data removed]",
      "text/plain": [
       "<Figure size 432x288 with 1 Axes>"
      ]
     },
     "metadata": {
      "needs_background": "light"
     },
     "output_type": "display_data"
    },
    {
     "data": {
      "image/png": "[encoded data removed]",
      "text/plain": [
       "<Figure size 432x288 with 1 Axes>"
      ]
     },
     "metadata": {
      "needs_background": "light"
     },
     "output_type": "display_data"
    },
    {
     "data": {
      "image/png": "[encoded data removed]",
      "text/plain": [
       "<Figure size 432x288 with 1 Axes>"
      ]
     },
     "metadata": {
      "needs_background": "light"
     },
     "output_type": "display_data"
    }
   ],
   "source": [
    "sns.set_context('notebook')\n",
    "for i in df_cat.columns:\n",
    "    g = sns.countplot(x = i , data = df_cat)\n",
    "    g.set_title(i)\n",
    "    g.set(xlabel = ' ', ylabel = ' ')\n",
    "    \n",
    "    plt.show()"
   ]
  },
  {
   "cell_type": "markdown",
   "id": "4c9e872f",
   "metadata": {},
   "source": [
    "Los gráficos de cabina y ticket son muy desordenados, debido a que presentan demasiados elementos discretos diferentes."
   ]
  },
  {
   "cell_type": "markdown",
   "id": "a841fddc",
   "metadata": {},
   "source": [
    "#### Tasa de supervivientes por categorías \n",
    "\n",
    "Ahora comparemos los supervivientes con cada una de estas variables categóricas"
   ]
  },
  {
   "cell_type": "code",
   "execution_count": 12,
   "id": "3aad6808",
   "metadata": {},
   "outputs": [
    {
     "data": {
      "text/html": [
       "<div>\n",
       "<style scoped>\n",
       "    .dataframe tbody tr th:only-of-type {\n",
       "        vertical-align: middle;\n",
       "    }\n",
       "\n",
       "    .dataframe tbody tr th {\n",
       "        vertical-align: top;\n",
       "    }\n",
       "\n",
       "    .dataframe thead tr th {\n",
       "        text-align: left;\n",
       "    }\n",
       "\n",
       "    .dataframe thead tr:last-of-type th {\n",
       "        text-align: right;\n",
       "    }\n",
       "</style>\n",
       "<table border=\"1\" class=\"dataframe\">\n",
       "  <thead>\n",
       "    <tr>\n",
       "      <th>Pclass</th>\n",
       "      <th colspan=\"2\" halign=\"left\">1</th>\n",
       "      <th colspan=\"2\" halign=\"left\">2</th>\n",
       "      <th colspan=\"2\" halign=\"left\">3</th>\n",
       "    </tr>\n",
       "    <tr>\n",
       "      <th>Sex</th>\n",
       "      <th>female</th>\n",
       "      <th>male</th>\n",
       "      <th>female</th>\n",
       "      <th>male</th>\n",
       "      <th>female</th>\n",
       "      <th>male</th>\n",
       "    </tr>\n",
       "    <tr>\n",
       "      <th>Survived</th>\n",
       "      <th></th>\n",
       "      <th></th>\n",
       "      <th></th>\n",
       "      <th></th>\n",
       "      <th></th>\n",
       "      <th></th>\n",
       "    </tr>\n",
       "  </thead>\n",
       "  <tbody>\n",
       "    <tr>\n",
       "      <th>0</th>\n",
       "      <td>3</td>\n",
       "      <td>77</td>\n",
       "      <td>6</td>\n",
       "      <td>91</td>\n",
       "      <td>72</td>\n",
       "      <td>300</td>\n",
       "    </tr>\n",
       "    <tr>\n",
       "      <th>1</th>\n",
       "      <td>91</td>\n",
       "      <td>45</td>\n",
       "      <td>70</td>\n",
       "      <td>17</td>\n",
       "      <td>72</td>\n",
       "      <td>47</td>\n",
       "    </tr>\n",
       "  </tbody>\n",
       "</table>\n",
       "</div>"
      ],
      "text/plain": [
       "Pclass        1           2           3     \n",
       "Sex      female male female male female male\n",
       "Survived                                    \n",
       "0             3   77      6   91     72  300\n",
       "1            91   45     70   17     72   47"
      ]
     },
     "execution_count": 12,
     "metadata": {},
     "output_type": "execute_result"
    }
   ],
   "source": [
    "# Pclass: tasa de supervivencia por clases en el barco\n",
    "# La variable ticket en este caso me sirve como primary key el conteo. dado cada que sus elementos son unicos\n",
    "pclass_table = pd.pivot_table(training, index = 'Survived', values = 'Ticket',  columns = ['Pclass', 'Sex'], aggfunc = 'count')\n",
    "pclass_table"
   ]
  },
  {
   "cell_type": "code",
   "execution_count": 13,
   "id": "2a9debbd",
   "metadata": {},
   "outputs": [
    {
     "data": {
      "text/html": [
       "<div>\n",
       "<style scoped>\n",
       "    .dataframe tbody tr th:only-of-type {\n",
       "        vertical-align: middle;\n",
       "    }\n",
       "\n",
       "    .dataframe tbody tr th {\n",
       "        vertical-align: top;\n",
       "    }\n",
       "\n",
       "    .dataframe thead th {\n",
       "        text-align: right;\n",
       "    }\n",
       "</style>\n",
       "<table border=\"1\" class=\"dataframe\">\n",
       "  <thead>\n",
       "    <tr style=\"text-align: right;\">\n",
       "      <th>Sex</th>\n",
       "      <th>female</th>\n",
       "      <th>male</th>\n",
       "    </tr>\n",
       "    <tr>\n",
       "      <th>Survived</th>\n",
       "      <th></th>\n",
       "      <th></th>\n",
       "    </tr>\n",
       "  </thead>\n",
       "  <tbody>\n",
       "    <tr>\n",
       "      <th>0</th>\n",
       "      <td>81</td>\n",
       "      <td>468</td>\n",
       "    </tr>\n",
       "    <tr>\n",
       "      <th>1</th>\n",
       "      <td>233</td>\n",
       "      <td>109</td>\n",
       "    </tr>\n",
       "  </tbody>\n",
       "</table>\n",
       "</div>"
      ],
      "text/plain": [
       "Sex       female  male\n",
       "Survived              \n",
       "0             81   468\n",
       "1            233   109"
      ]
     },
     "execution_count": 13,
     "metadata": {},
     "output_type": "execute_result"
    }
   ],
   "source": [
    "# Sex: tasas de supervivencia por sexo del pasajero\n",
    "sex_table = pd.pivot_table(training, index = 'Survived', values = 'Ticket',  columns = 'Sex', aggfunc = 'count')\n",
    "sex_table"
   ]
  },
  {
   "cell_type": "code",
   "execution_count": 14,
   "id": "dbdeca1d",
   "metadata": {},
   "outputs": [
    {
     "data": {
      "text/html": [
       "<div>\n",
       "<style scoped>\n",
       "    .dataframe tbody tr th:only-of-type {\n",
       "        vertical-align: middle;\n",
       "    }\n",
       "\n",
       "    .dataframe tbody tr th {\n",
       "        vertical-align: top;\n",
       "    }\n",
       "\n",
       "    .dataframe thead th {\n",
       "        text-align: right;\n",
       "    }\n",
       "</style>\n",
       "<table border=\"1\" class=\"dataframe\">\n",
       "  <thead>\n",
       "    <tr style=\"text-align: right;\">\n",
       "      <th>Embarked</th>\n",
       "      <th>C</th>\n",
       "      <th>Q</th>\n",
       "      <th>S</th>\n",
       "    </tr>\n",
       "    <tr>\n",
       "      <th>Survived</th>\n",
       "      <th></th>\n",
       "      <th></th>\n",
       "      <th></th>\n",
       "    </tr>\n",
       "  </thead>\n",
       "  <tbody>\n",
       "    <tr>\n",
       "      <th>0</th>\n",
       "      <td>75</td>\n",
       "      <td>47</td>\n",
       "      <td>427</td>\n",
       "    </tr>\n",
       "    <tr>\n",
       "      <th>1</th>\n",
       "      <td>93</td>\n",
       "      <td>30</td>\n",
       "      <td>217</td>\n",
       "    </tr>\n",
       "  </tbody>\n",
       "</table>\n",
       "</div>"
      ],
      "text/plain": [
       "Embarked   C   Q    S\n",
       "Survived             \n",
       "0         75  47  427\n",
       "1         93  30  217"
      ]
     },
     "execution_count": 14,
     "metadata": {},
     "output_type": "execute_result"
    }
   ],
   "source": [
    "# Embarked: tasa de supervivencia por el tipo de embarque\n",
    "embarked_table = pd.pivot_table(training, index = 'Survived', values = 'Ticket',  columns = 'Embarked', aggfunc = 'count')\n",
    "embarked_table"
   ]
  },
  {
   "cell_type": "markdown",
   "id": "fedc9926",
   "metadata": {},
   "source": [
    "Se observa en las tablas que estar en clase alta y ser mujer aumentaba tu probabilidad de sobrevivir enormemente"
   ]
  },
  {
   "cell_type": "markdown",
   "id": "020b6ccc",
   "metadata": {},
   "source": [
    "## Ingeniería de Características\n",
    "\n",
    "Se analizará las siguientes features:\n",
    "\n",
    "1. Cabin: Simplicar las cabinas, evaluando si la letra de la cabina (cabina_adv) o la compra de boletos en varias cabinas (cabin_multiple), afectó la supervivencia\n",
    "\n",
    "2. Tickets: Analizar si los diferentes tipos de tickets impactan en la tasa de supervivencia\n",
    "\n",
    "3. Ver si el título de una persona se relacion con la tasa de supervivencia"
   ]
  },
  {
   "cell_type": "markdown",
   "id": "7eb3c902",
   "metadata": {},
   "source": [
    "#### Cabin a cabin_multiple\n",
    "\n",
    "Evaluaremos toda la columna y añadiremos un cero si presenta un valor NaN y si presenta un string añadiremos su longitud de cadena. Toda estos datos serán llenados en una nueva columna llamada 'cabin_multiple' la cual tendra elementos de 0,1,2,3 y 4."
   ]
  },
  {
   "cell_type": "code",
   "execution_count": 15,
   "id": "33308614",
   "metadata": {},
   "outputs": [
    {
     "data": {
      "text/plain": [
       "0    687\n",
       "1    180\n",
       "2     16\n",
       "3      6\n",
       "4      2\n",
       "Name: cabin_multiple, dtype: int64"
      ]
     },
     "execution_count": 15,
     "metadata": {},
     "output_type": "execute_result"
    }
   ],
   "source": [
    "training['cabin_multiple'] = training['Cabin'].apply(lambda x: 0 if pd.isna(x) else len(x.split(' ')))\n",
    "\n",
    "# Después de ver esto, pdemos mirar a 'Cabin' por letra o por número. Creamos algunas categorías para esta letra\n",
    "training['cabin_multiple'].value_counts()\n",
    "#training['cabin_multiple'].sample(50)"
   ]
  },
  {
   "cell_type": "markdown",
   "id": "21441ae7",
   "metadata": {},
   "source": [
    "Se nota que la mayoría de datos son NaN debido a que tienen 687 valores contados."
   ]
  },
  {
   "cell_type": "code",
   "execution_count": 16,
   "id": "c6c1238b",
   "metadata": {},
   "outputs": [
    {
     "data": {
      "text/plain": [
       "['ho', 'la']"
      ]
     },
     "execution_count": 16,
     "metadata": {},
     "output_type": "execute_result"
    }
   ],
   "source": [
    "'ho la'.split(' ')"
   ]
  },
  {
   "cell_type": "markdown",
   "id": "60179810",
   "metadata": {},
   "source": [
    "Evaluamos la tasa de supervivencia por 'cabin_multiple'"
   ]
  },
  {
   "cell_type": "code",
   "execution_count": 17,
   "id": "af879a29",
   "metadata": {},
   "outputs": [
    {
     "data": {
      "text/html": [
       "<div>\n",
       "<style scoped>\n",
       "    .dataframe tbody tr th:only-of-type {\n",
       "        vertical-align: middle;\n",
       "    }\n",
       "\n",
       "    .dataframe tbody tr th {\n",
       "        vertical-align: top;\n",
       "    }\n",
       "\n",
       "    .dataframe thead th {\n",
       "        text-align: right;\n",
       "    }\n",
       "</style>\n",
       "<table border=\"1\" class=\"dataframe\">\n",
       "  <thead>\n",
       "    <tr style=\"text-align: right;\">\n",
       "      <th>cabin_multiple</th>\n",
       "      <th>0</th>\n",
       "      <th>1</th>\n",
       "      <th>2</th>\n",
       "      <th>3</th>\n",
       "      <th>4</th>\n",
       "    </tr>\n",
       "    <tr>\n",
       "      <th>Survived</th>\n",
       "      <th></th>\n",
       "      <th></th>\n",
       "      <th></th>\n",
       "      <th></th>\n",
       "      <th></th>\n",
       "    </tr>\n",
       "  </thead>\n",
       "  <tbody>\n",
       "    <tr>\n",
       "      <th>0</th>\n",
       "      <td>481</td>\n",
       "      <td>58</td>\n",
       "      <td>7</td>\n",
       "      <td>3</td>\n",
       "      <td>0</td>\n",
       "    </tr>\n",
       "    <tr>\n",
       "      <th>1</th>\n",
       "      <td>206</td>\n",
       "      <td>122</td>\n",
       "      <td>9</td>\n",
       "      <td>3</td>\n",
       "      <td>2</td>\n",
       "    </tr>\n",
       "  </tbody>\n",
       "</table>\n",
       "</div>"
      ],
      "text/plain": [
       "cabin_multiple    0    1  2  3  4\n",
       "Survived                         \n",
       "0               481   58  7  3  0\n",
       "1               206  122  9  3  2"
      ]
     },
     "execution_count": 17,
     "metadata": {},
     "output_type": "execute_result"
    }
   ],
   "source": [
    "pd.pivot_table(training, index = 'Survived', columns = 'cabin_multiple', values = 'Ticket', aggfunc = 'count', fill_value = 0)"
   ]
  },
  {
   "cell_type": "markdown",
   "id": "7da15b51",
   "metadata": {},
   "source": [
    "#### Cabin a cabin_adv"
   ]
  },
  {
   "cell_type": "code",
   "execution_count": 18,
   "id": "772f8d74",
   "metadata": {},
   "outputs": [
    {
     "data": {
      "text/plain": [
       "0      n\n",
       "1      C\n",
       "2      n\n",
       "3      C\n",
       "4      n\n",
       "      ..\n",
       "886    n\n",
       "887    B\n",
       "888    n\n",
       "889    C\n",
       "890    n\n",
       "Name: cabin_adv, Length: 891, dtype: object"
      ]
     },
     "execution_count": 18,
     "metadata": {},
     "output_type": "execute_result"
    }
   ],
   "source": [
    "# Creamos categorías basadas solo en la primera letra de la columna 'Cabin' (n significa nulo)\n",
    "training['cabin_adv'] = training['Cabin'].apply(lambda x: str(x)[0])\n",
    "training['cabin_adv']"
   ]
  },
  {
   "cell_type": "markdown",
   "id": "80b15653",
   "metadata": {},
   "source": [
    "Evaluamos la tasa de supervivencia por 'cabin_adv'"
   ]
  },
  {
   "cell_type": "code",
   "execution_count": 19,
   "id": "c90989cf",
   "metadata": {},
   "outputs": [
    {
     "name": "stdout",
     "output_type": "stream",
     "text": [
      "n    687\n",
      "C     59\n",
      "B     47\n",
      "D     33\n",
      "E     32\n",
      "A     15\n",
      "F     13\n",
      "G      4\n",
      "T      1\n",
      "Name: cabin_adv, dtype: int64\n"
     ]
    },
    {
     "data": {
      "text/html": [
       "<div>\n",
       "<style scoped>\n",
       "    .dataframe tbody tr th:only-of-type {\n",
       "        vertical-align: middle;\n",
       "    }\n",
       "\n",
       "    .dataframe tbody tr th {\n",
       "        vertical-align: top;\n",
       "    }\n",
       "\n",
       "    .dataframe thead th {\n",
       "        text-align: right;\n",
       "    }\n",
       "</style>\n",
       "<table border=\"1\" class=\"dataframe\">\n",
       "  <thead>\n",
       "    <tr style=\"text-align: right;\">\n",
       "      <th>cabin_adv</th>\n",
       "      <th>A</th>\n",
       "      <th>B</th>\n",
       "      <th>C</th>\n",
       "      <th>D</th>\n",
       "      <th>E</th>\n",
       "      <th>F</th>\n",
       "      <th>G</th>\n",
       "      <th>T</th>\n",
       "      <th>n</th>\n",
       "    </tr>\n",
       "    <tr>\n",
       "      <th>Survived</th>\n",
       "      <th></th>\n",
       "      <th></th>\n",
       "      <th></th>\n",
       "      <th></th>\n",
       "      <th></th>\n",
       "      <th></th>\n",
       "      <th></th>\n",
       "      <th></th>\n",
       "      <th></th>\n",
       "    </tr>\n",
       "  </thead>\n",
       "  <tbody>\n",
       "    <tr>\n",
       "      <th>0</th>\n",
       "      <td>8.0</td>\n",
       "      <td>12.0</td>\n",
       "      <td>24.0</td>\n",
       "      <td>8.0</td>\n",
       "      <td>8.0</td>\n",
       "      <td>5.0</td>\n",
       "      <td>2.0</td>\n",
       "      <td>1.0</td>\n",
       "      <td>481.0</td>\n",
       "    </tr>\n",
       "    <tr>\n",
       "      <th>1</th>\n",
       "      <td>7.0</td>\n",
       "      <td>35.0</td>\n",
       "      <td>35.0</td>\n",
       "      <td>25.0</td>\n",
       "      <td>24.0</td>\n",
       "      <td>8.0</td>\n",
       "      <td>2.0</td>\n",
       "      <td>NaN</td>\n",
       "      <td>206.0</td>\n",
       "    </tr>\n",
       "  </tbody>\n",
       "</table>\n",
       "</div>"
      ],
      "text/plain": [
       "cabin_adv    A     B     C     D     E    F    G    T      n\n",
       "Survived                                                    \n",
       "0          8.0  12.0  24.0   8.0   8.0  5.0  2.0  1.0  481.0\n",
       "1          7.0  35.0  35.0  25.0  24.0  8.0  2.0  NaN  206.0"
      ]
     },
     "execution_count": 19,
     "metadata": {},
     "output_type": "execute_result"
    }
   ],
   "source": [
    "# Comparamos tasa de supervivientes. \n",
    "print(training['cabin_adv'].value_counts())\n",
    "pd.pivot_table(training, index = 'Survived', columns='cabin_adv', values = 'Name', aggfunc = 'count')"
   ]
  },
  {
   "cell_type": "markdown",
   "id": "79d51300",
   "metadata": {},
   "source": [
    "La mayoría de valores son nulos y están reprsentados con n. "
   ]
  },
  {
   "cell_type": "markdown",
   "id": "cb674571",
   "metadata": {},
   "source": [
    "#### Ticket"
   ]
  },
  {
   "cell_type": "code",
   "execution_count": 20,
   "id": "fbdc59f8",
   "metadata": {},
   "outputs": [],
   "source": [
    "# Entendiendo mejor los valores de los ticket\n",
    "\n",
    "\n",
    "# Creo una columna con valores de ticket numéricos\n",
    "training['numeric_ticket'] = training['Ticket'].apply(lambda x: 1 if x.isnumeric() else 0)\n",
    "\n",
    "# Cero una nueva columna con las valores string  del ticket, donde obtengo letras iniciales convertidas a minusculas\n",
    "training['tickets_letters'] = training['Ticket'].apply(lambda x: ''.join(x.split(' ')[:-1]).replace('.', '').replace\n",
    "                                                              ('/', '').lower() if len(x.split(' ')[:-1]) >0 else 0)"
   ]
  },
  {
   "cell_type": "code",
   "execution_count": 21,
   "id": "c294c776",
   "metadata": {},
   "outputs": [
    {
     "data": {
      "text/plain": [
       "'elcentrodetodoes'"
      ]
     },
     "execution_count": 21,
     "metadata": {},
     "output_type": "execute_result"
    }
   ],
   "source": [
    "x = '/El CENTRO. de todo. es Jesus/'\n",
    "r = x.split(' ')[:-1] #corto al estring por cada 'espacio' pero la convierte en lista\n",
    "r= ''.join(r) # vuelvo a unir lista ya sin el espacio pero la convierto en string\n",
    "r = r.replace('.', '') #reemplazo caracteres replace('viejo', 'nuevo')\n",
    "r = r.replace('/', '') \n",
    "r = r.lower() # convierto todo a minucula\n",
    "r"
   ]
  },
  {
   "cell_type": "markdown",
   "id": "7296d520",
   "metadata": {},
   "source": [
    "Visualizamos nuevas columnda 'Ticket' con sus nuevas columnas derivadas 'tickets_letters' y 'numeric_ticket', para ver com quedan"
   ]
  },
  {
   "cell_type": "code",
   "execution_count": 22,
   "id": "4e875f21",
   "metadata": {},
   "outputs": [
    {
     "data": {
      "text/html": [
       "<div>\n",
       "<style scoped>\n",
       "    .dataframe tbody tr th:only-of-type {\n",
       "        vertical-align: middle;\n",
       "    }\n",
       "\n",
       "    .dataframe tbody tr th {\n",
       "        vertical-align: top;\n",
       "    }\n",
       "\n",
       "    .dataframe thead th {\n",
       "        text-align: right;\n",
       "    }\n",
       "</style>\n",
       "<table border=\"1\" class=\"dataframe\">\n",
       "  <thead>\n",
       "    <tr style=\"text-align: right;\">\n",
       "      <th></th>\n",
       "      <th>Ticket</th>\n",
       "      <th>tickets_letters</th>\n",
       "      <th>numeric_ticket</th>\n",
       "    </tr>\n",
       "  </thead>\n",
       "  <tbody>\n",
       "    <tr>\n",
       "      <th>43</th>\n",
       "      <td>SC/Paris 2123</td>\n",
       "      <td>scparis</td>\n",
       "      <td>0</td>\n",
       "    </tr>\n",
       "    <tr>\n",
       "      <th>433</th>\n",
       "      <td>STON/O 2. 3101274</td>\n",
       "      <td>stono2</td>\n",
       "      <td>0</td>\n",
       "    </tr>\n",
       "    <tr>\n",
       "      <th>574</th>\n",
       "      <td>A/4. 20589</td>\n",
       "      <td>a4</td>\n",
       "      <td>0</td>\n",
       "    </tr>\n",
       "    <tr>\n",
       "      <th>781</th>\n",
       "      <td>17474</td>\n",
       "      <td>0</td>\n",
       "      <td>1</td>\n",
       "    </tr>\n",
       "    <tr>\n",
       "      <th>568</th>\n",
       "      <td>2686</td>\n",
       "      <td>0</td>\n",
       "      <td>1</td>\n",
       "    </tr>\n",
       "    <tr>\n",
       "      <th>278</th>\n",
       "      <td>382652</td>\n",
       "      <td>0</td>\n",
       "      <td>1</td>\n",
       "    </tr>\n",
       "    <tr>\n",
       "      <th>457</th>\n",
       "      <td>17464</td>\n",
       "      <td>0</td>\n",
       "      <td>1</td>\n",
       "    </tr>\n",
       "    <tr>\n",
       "      <th>684</th>\n",
       "      <td>29750</td>\n",
       "      <td>0</td>\n",
       "      <td>1</td>\n",
       "    </tr>\n",
       "    <tr>\n",
       "      <th>18</th>\n",
       "      <td>345763</td>\n",
       "      <td>0</td>\n",
       "      <td>1</td>\n",
       "    </tr>\n",
       "    <tr>\n",
       "      <th>836</th>\n",
       "      <td>315097</td>\n",
       "      <td>0</td>\n",
       "      <td>1</td>\n",
       "    </tr>\n",
       "    <tr>\n",
       "      <th>72</th>\n",
       "      <td>S.O.C. 14879</td>\n",
       "      <td>soc</td>\n",
       "      <td>0</td>\n",
       "    </tr>\n",
       "    <tr>\n",
       "      <th>602</th>\n",
       "      <td>113796</td>\n",
       "      <td>0</td>\n",
       "      <td>1</td>\n",
       "    </tr>\n",
       "    <tr>\n",
       "      <th>854</th>\n",
       "      <td>244252</td>\n",
       "      <td>0</td>\n",
       "      <td>1</td>\n",
       "    </tr>\n",
       "    <tr>\n",
       "      <th>306</th>\n",
       "      <td>17421</td>\n",
       "      <td>0</td>\n",
       "      <td>1</td>\n",
       "    </tr>\n",
       "    <tr>\n",
       "      <th>709</th>\n",
       "      <td>2661</td>\n",
       "      <td>0</td>\n",
       "      <td>1</td>\n",
       "    </tr>\n",
       "    <tr>\n",
       "      <th>369</th>\n",
       "      <td>PC 17477</td>\n",
       "      <td>pc</td>\n",
       "      <td>0</td>\n",
       "    </tr>\n",
       "    <tr>\n",
       "      <th>106</th>\n",
       "      <td>343120</td>\n",
       "      <td>0</td>\n",
       "      <td>1</td>\n",
       "    </tr>\n",
       "    <tr>\n",
       "      <th>167</th>\n",
       "      <td>347088</td>\n",
       "      <td>0</td>\n",
       "      <td>1</td>\n",
       "    </tr>\n",
       "    <tr>\n",
       "      <th>80</th>\n",
       "      <td>345767</td>\n",
       "      <td>0</td>\n",
       "      <td>1</td>\n",
       "    </tr>\n",
       "    <tr>\n",
       "      <th>576</th>\n",
       "      <td>243880</td>\n",
       "      <td>0</td>\n",
       "      <td>1</td>\n",
       "    </tr>\n",
       "  </tbody>\n",
       "</table>\n",
       "</div>"
      ],
      "text/plain": [
       "                Ticket tickets_letters  numeric_ticket\n",
       "43       SC/Paris 2123         scparis               0\n",
       "433  STON/O 2. 3101274          stono2               0\n",
       "574         A/4. 20589              a4               0\n",
       "781              17474               0               1\n",
       "568               2686               0               1\n",
       "278             382652               0               1\n",
       "457              17464               0               1\n",
       "684              29750               0               1\n",
       "18              345763               0               1\n",
       "836             315097               0               1\n",
       "72        S.O.C. 14879             soc               0\n",
       "602             113796               0               1\n",
       "854             244252               0               1\n",
       "306              17421               0               1\n",
       "709               2661               0               1\n",
       "369           PC 17477              pc               0\n",
       "106             343120               0               1\n",
       "167             347088               0               1\n",
       "80              345767               0               1\n",
       "576             243880               0               1"
      ]
     },
     "execution_count": 22,
     "metadata": {},
     "output_type": "execute_result"
    }
   ],
   "source": [
    "training[['Ticket', 'tickets_letters', 'numeric_ticket']].sample(20)\n",
    "                                                                "
   ]
  },
  {
   "cell_type": "code",
   "execution_count": 23,
   "id": "590c170b",
   "metadata": {},
   "outputs": [
    {
     "data": {
      "text/plain": [
       "1    661\n",
       "0    230\n",
       "Name: numeric_ticket, dtype: int64"
      ]
     },
     "execution_count": 23,
     "metadata": {},
     "output_type": "execute_result"
    }
   ],
   "source": [
    "# Cantidad de tickets numéricos y baasdos en letras\n",
    "training['numeric_ticket'].value_counts()"
   ]
  },
  {
   "cell_type": "code",
   "execution_count": 24,
   "id": "9d59d714",
   "metadata": {},
   "outputs": [
    {
     "data": {
      "text/plain": [
       "0            665\n",
       "pc            60\n",
       "ca            41\n",
       "a5            21\n",
       "stono2        18\n",
       "sotonoq       15\n",
       "scparis       11\n",
       "wc            10\n",
       "a4             7\n",
       "soc            6\n",
       "fcc            5\n",
       "c              5\n",
       "sopp           3\n",
       "pp             3\n",
       "wep            3\n",
       "ppp            2\n",
       "scah           2\n",
       "sotono2        2\n",
       "swpp           2\n",
       "fc             1\n",
       "scahbasle      1\n",
       "as             1\n",
       "sp             1\n",
       "sc             1\n",
       "scow           1\n",
       "fa             1\n",
       "sop            1\n",
       "sca4           1\n",
       "casoton        1\n",
       "Name: tickets_letters, dtype: int64"
      ]
     },
     "execution_count": 24,
     "metadata": {},
     "output_type": "execute_result"
    }
   ],
   "source": [
    "# Veamos todas las filas en el dataframe a través del desplazamiento, eso por conveniencia\n",
    "pd.set_option(\"max_rows\", None)\n",
    "training['tickets_letters'].value_counts()"
   ]
  },
  {
   "cell_type": "code",
   "execution_count": 25,
   "id": "afe10120",
   "metadata": {},
   "outputs": [
    {
     "data": {
      "text/html": [
       "<div>\n",
       "<style scoped>\n",
       "    .dataframe tbody tr th:only-of-type {\n",
       "        vertical-align: middle;\n",
       "    }\n",
       "\n",
       "    .dataframe tbody tr th {\n",
       "        vertical-align: top;\n",
       "    }\n",
       "\n",
       "    .dataframe thead tr th {\n",
       "        text-align: left;\n",
       "    }\n",
       "\n",
       "    .dataframe thead tr:last-of-type th {\n",
       "        text-align: right;\n",
       "    }\n",
       "</style>\n",
       "<table border=\"1\" class=\"dataframe\">\n",
       "  <thead>\n",
       "    <tr>\n",
       "      <th>Pclass</th>\n",
       "      <th colspan=\"2\" halign=\"left\">1</th>\n",
       "      <th colspan=\"2\" halign=\"left\">2</th>\n",
       "      <th colspan=\"2\" halign=\"left\">3</th>\n",
       "    </tr>\n",
       "    <tr>\n",
       "      <th>numeric_ticket</th>\n",
       "      <th>0</th>\n",
       "      <th>1</th>\n",
       "      <th>0</th>\n",
       "      <th>1</th>\n",
       "      <th>0</th>\n",
       "      <th>1</th>\n",
       "    </tr>\n",
       "    <tr>\n",
       "      <th>Survived</th>\n",
       "      <th></th>\n",
       "      <th></th>\n",
       "      <th></th>\n",
       "      <th></th>\n",
       "      <th></th>\n",
       "      <th></th>\n",
       "    </tr>\n",
       "  </thead>\n",
       "  <tbody>\n",
       "    <tr>\n",
       "      <th>0</th>\n",
       "      <td>24</td>\n",
       "      <td>56</td>\n",
       "      <td>31</td>\n",
       "      <td>66</td>\n",
       "      <td>87</td>\n",
       "      <td>285</td>\n",
       "    </tr>\n",
       "    <tr>\n",
       "      <th>1</th>\n",
       "      <td>40</td>\n",
       "      <td>96</td>\n",
       "      <td>26</td>\n",
       "      <td>61</td>\n",
       "      <td>22</td>\n",
       "      <td>97</td>\n",
       "    </tr>\n",
       "  </tbody>\n",
       "</table>\n",
       "</div>"
      ],
      "text/plain": [
       "Pclass           1       2       3     \n",
       "numeric_ticket   0   1   0   1   0    1\n",
       "Survived                               \n",
       "0               24  56  31  66  87  285\n",
       "1               40  96  26  61  22   97"
      ]
     },
     "execution_count": 25,
     "metadata": {},
     "output_type": "execute_result"
    }
   ],
   "source": [
    "# diferencia entre tickets numericos y no numericos en la tasa de supervivencia\n",
    "pd.pivot_table(training, index = 'Survived', columns = ['Pclass', 'numeric_ticket'], values = 'Ticket', aggfunc = 'count')"
   ]
  },
  {
   "cell_type": "code",
   "execution_count": 26,
   "id": "adf69388",
   "metadata": {},
   "outputs": [
    {
     "data": {
      "text/html": [
       "<div>\n",
       "<style scoped>\n",
       "    .dataframe tbody tr th:only-of-type {\n",
       "        vertical-align: middle;\n",
       "    }\n",
       "\n",
       "    .dataframe tbody tr th {\n",
       "        vertical-align: top;\n",
       "    }\n",
       "\n",
       "    .dataframe thead th {\n",
       "        text-align: right;\n",
       "    }\n",
       "</style>\n",
       "<table border=\"1\" class=\"dataframe\">\n",
       "  <thead>\n",
       "    <tr style=\"text-align: right;\">\n",
       "      <th>tickets_letters</th>\n",
       "      <th>0</th>\n",
       "      <th>a4</th>\n",
       "      <th>a5</th>\n",
       "      <th>as</th>\n",
       "      <th>c</th>\n",
       "      <th>ca</th>\n",
       "      <th>casoton</th>\n",
       "      <th>fa</th>\n",
       "      <th>fc</th>\n",
       "      <th>fcc</th>\n",
       "      <th>...</th>\n",
       "      <th>soc</th>\n",
       "      <th>sop</th>\n",
       "      <th>sopp</th>\n",
       "      <th>sotono2</th>\n",
       "      <th>sotonoq</th>\n",
       "      <th>sp</th>\n",
       "      <th>stono2</th>\n",
       "      <th>swpp</th>\n",
       "      <th>wc</th>\n",
       "      <th>wep</th>\n",
       "    </tr>\n",
       "    <tr>\n",
       "      <th>Survived</th>\n",
       "      <th></th>\n",
       "      <th></th>\n",
       "      <th></th>\n",
       "      <th></th>\n",
       "      <th></th>\n",
       "      <th></th>\n",
       "      <th></th>\n",
       "      <th></th>\n",
       "      <th></th>\n",
       "      <th></th>\n",
       "      <th></th>\n",
       "      <th></th>\n",
       "      <th></th>\n",
       "      <th></th>\n",
       "      <th></th>\n",
       "      <th></th>\n",
       "      <th></th>\n",
       "      <th></th>\n",
       "      <th></th>\n",
       "      <th></th>\n",
       "      <th></th>\n",
       "    </tr>\n",
       "  </thead>\n",
       "  <tbody>\n",
       "    <tr>\n",
       "      <th>0</th>\n",
       "      <td>410.0</td>\n",
       "      <td>7.0</td>\n",
       "      <td>19.0</td>\n",
       "      <td>1.0</td>\n",
       "      <td>3.0</td>\n",
       "      <td>27.0</td>\n",
       "      <td>1.0</td>\n",
       "      <td>1.0</td>\n",
       "      <td>1.0</td>\n",
       "      <td>1.0</td>\n",
       "      <td>...</td>\n",
       "      <td>5.0</td>\n",
       "      <td>1.0</td>\n",
       "      <td>3.0</td>\n",
       "      <td>2.0</td>\n",
       "      <td>13.0</td>\n",
       "      <td>1.0</td>\n",
       "      <td>10.0</td>\n",
       "      <td>NaN</td>\n",
       "      <td>9.0</td>\n",
       "      <td>2.0</td>\n",
       "    </tr>\n",
       "    <tr>\n",
       "      <th>1</th>\n",
       "      <td>255.0</td>\n",
       "      <td>NaN</td>\n",
       "      <td>2.0</td>\n",
       "      <td>NaN</td>\n",
       "      <td>2.0</td>\n",
       "      <td>14.0</td>\n",
       "      <td>NaN</td>\n",
       "      <td>NaN</td>\n",
       "      <td>NaN</td>\n",
       "      <td>4.0</td>\n",
       "      <td>...</td>\n",
       "      <td>1.0</td>\n",
       "      <td>NaN</td>\n",
       "      <td>NaN</td>\n",
       "      <td>NaN</td>\n",
       "      <td>2.0</td>\n",
       "      <td>NaN</td>\n",
       "      <td>8.0</td>\n",
       "      <td>2.0</td>\n",
       "      <td>1.0</td>\n",
       "      <td>1.0</td>\n",
       "    </tr>\n",
       "  </tbody>\n",
       "</table>\n",
       "<p>2 rows × 29 columns</p>\n",
       "</div>"
      ],
      "text/plain": [
       "tickets_letters      0   a4    a5   as    c    ca  casoton   fa   fc  fcc  \\\n",
       "Survived                                                                    \n",
       "0                410.0  7.0  19.0  1.0  3.0  27.0      1.0  1.0  1.0  1.0   \n",
       "1                255.0  NaN   2.0  NaN  2.0  14.0      NaN  NaN  NaN  4.0   \n",
       "\n",
       "tickets_letters  ...  soc  sop  sopp  sotono2  sotonoq   sp  stono2  swpp  \\\n",
       "Survived         ...                                                        \n",
       "0                ...  5.0  1.0   3.0      2.0     13.0  1.0    10.0   NaN   \n",
       "1                ...  1.0  NaN   NaN      NaN      2.0  NaN     8.0   2.0   \n",
       "\n",
       "tickets_letters   wc  wep  \n",
       "Survived                   \n",
       "0                9.0  2.0  \n",
       "1                1.0  1.0  \n",
       "\n",
       "[2 rows x 29 columns]"
      ]
     },
     "execution_count": 26,
     "metadata": {},
     "output_type": "execute_result"
    }
   ],
   "source": [
    "# Tasa de supervivencia a través de los diferentes tipos de ticket\n",
    "pd.pivot_table(training, index = 'Survived',  columns = 'tickets_letters', values= 'Ticket', aggfunc = 'count' )"
   ]
  },
  {
   "cell_type": "markdown",
   "id": "7f0feb07",
   "metadata": {},
   "source": [
    "#### Títulos de personas\n",
    "\n",
    "Ingenriería de caracteristicas sobre el título de la persona"
   ]
  },
  {
   "cell_type": "code",
   "execution_count": 27,
   "id": "90800464",
   "metadata": {},
   "outputs": [],
   "source": [
    "# INgenriería de caracteristicas sobre el título de la persona\n",
    "training['Name'].head(50)\n",
    "training['name_title'] = training['Name'].apply(lambda x: x.split(',')[1].split('.')[0].strip())\n",
    "# mr,ms,master,etc"
   ]
  },
  {
   "cell_type": "code",
   "execution_count": 28,
   "id": "9ed4b280",
   "metadata": {},
   "outputs": [
    {
     "data": {
      "text/plain": [
       "'Ing'"
      ]
     },
     "execution_count": 28,
     "metadata": {},
     "output_type": "execute_result"
    }
   ],
   "source": [
    "a  = 'richard, Ing. Sailema Medina'\n",
    "a = a.split(',')[1]\n",
    "a = a.split('.')[0]\n",
    "a = a.strip() # quita los espacios por sangría\n",
    "a"
   ]
  },
  {
   "cell_type": "code",
   "execution_count": 29,
   "id": "8e98eee5",
   "metadata": {},
   "outputs": [
    {
     "data": {
      "text/plain": [
       "Mr              517\n",
       "Miss            182\n",
       "Mrs             125\n",
       "Master           40\n",
       "Dr                7\n",
       "Rev               6\n",
       "Mlle              2\n",
       "Major             2\n",
       "Col               2\n",
       "the Countess      1\n",
       "Capt              1\n",
       "Ms                1\n",
       "Sir               1\n",
       "Lady              1\n",
       "Mme               1\n",
       "Don               1\n",
       "Jonkheer          1\n",
       "Name: name_title, dtype: int64"
      ]
     },
     "execution_count": 29,
     "metadata": {},
     "output_type": "execute_result"
    }
   ],
   "source": [
    "training['name_title'].value_counts()"
   ]
  },
  {
   "cell_type": "markdown",
   "id": "f54d3770",
   "metadata": {},
   "source": [
    "### Procesando datos para el modelo\n",
    "\n",
    "1) Eliminamos valores nulos de la columna Enbarked \n",
    "\n",
    "2) Incluimos variales solamente relevantes (Ya que hemos limitado datos, se puede excluir cosas como 'Name' y 'passengerId' de modo que podríamos tener un número razonable de features para nuestros modelos)\n",
    "\n",
    "Features: 'Pclass', 'Sex','Age', 'SibSp', 'Parch', 'Fare', 'Embarked', 'cabin_adv', 'cabin_multiple', 'numeric_ticket', 'name_title'\n",
    "\n",
    "3) Realizamos transformaciones categoricas sobre todos los datos. Usualmente se usaría un transformador, pero con este enfoque podemos asegurarnos que nuestro dataset de entrenamiento y pruebas tengan las mismas preguntas. También debemos ser capaces de inferir algo sobre la forma de los datos de prueba a través de este método. \n",
    "\n",
    "4) Imputamos datos reeemplazando la media para 'fare' y 'age'.(Se debería también con la mediana).\n",
    "\n",
    "5) Normalizamos 'fare' usando logarithm para dar más apariencia de una distribución normal.\n",
    "\n",
    "6) Escalamos datos entre 0 y 1 con un objeto Standard escaler"
   ]
  },
  {
   "cell_type": "code",
   "execution_count": 30,
   "id": "e858c15c",
   "metadata": {},
   "outputs": [
    {
     "data": {
      "text/plain": [
       "(889,)"
      ]
     },
     "execution_count": 30,
     "metadata": {},
     "output_type": "execute_result"
    },
    {
     "data": {
      "image/png": "[encoded data removed]",
      "text/plain": [
       "<Figure size 432x288 with 1 Axes>"
      ]
     },
     "metadata": {
      "needs_background": "light"
     },
     "output_type": "display_data"
    }
   ],
   "source": [
    "# Crear todas las variables categoricas que tratamos arriba para el set de entranamiento y test\n",
    "all_data['cabin_multiple'] = all_data['Cabin'].apply(lambda x: 0 if pd.isna(x) else len(x.split(' ')))\n",
    "all_data['cabin_adv'] = all_data['Cabin'].apply(lambda x: str(x)[0])\n",
    "all_data['numeric_ticket'] = all_data['Ticket'].apply(lambda x: 1 if x.isnumeric() else 0)\n",
    "all_data['ticket_letters'] = all_data['Ticket'].apply(lambda x: ''.join(x.split(' ')[:-1]).replace('.', '').replace\n",
    "                                                              ('/', '').lower() if len(x.split(' ')[:-1]) >0 else 0)\n",
    "all_data['name_title'] = all_data['Name'].apply(lambda x: x.split(',')[1].split('.')[0].strip())\n",
    "\n",
    "# Imputamos valores null para datos continuos\n",
    "all_data['Age'] = all_data['Age'].fillna(training['Age'].mean())\n",
    "all_data['Fare'] = all_data['Fare'].fillna(training['Fare'].mean())\n",
    "\n",
    "# Eliminamos filas nulas de 'Embarked', solamente 2 instancias de esto entrenamiento y 0 en prueba\n",
    "all_data.dropna(subset = ['Embarked'], inplace = True)\n",
    "\n",
    "# Aplicamos la norma log a 'sibsp'\n",
    "all_data['norm_sibsp'] = np.log(all_data['SibSp']+1)\n",
    "all_data['norm_sibsp'].hist()\n",
    "\n",
    "# Aplicamos la norma log de 'Fare'\n",
    "all_data['norm_fare'] = np.log(all_data['Fare']+1)\n",
    "all_data['norm_fare'].hist()\n",
    "\n",
    "# Convertimos 'Pclass' en string\n",
    "all_data['Pclass'] = all_data['Pclass'].astype(str)\n",
    "    \n",
    "# Creamos variables dummies de categorías (también podemos usar OneHotEncoder)\n",
    "all_dummies = pd.get_dummies(all_data[['Pclass','Sex','Age','SibSp','Parch','norm_fare','Embarked','cabin_adv',\n",
    "                                        'cabin_multiple','numeric_ticket','name_title','train_test']])\n",
    "\n",
    "# Dividimos el  set de entreanmiento y pruebas otra vez\n",
    "X_train = all_dummies[all_dummies['train_test'] == 1].drop(['train_test'], axis = 1)\n",
    "X_test = all_dummies[all_dummies['train_test'] == 0].drop(['train_test'], axis = 1)    \n",
    "\n",
    "y_train = all_data[all_data['train_test']==1]['Survived']\n",
    "y_train.shape"
   ]
  },
  {
   "cell_type": "code",
   "execution_count": 31,
   "id": "36de6aa2",
   "metadata": {},
   "outputs": [],
   "source": [
    "# Escalando datos:\n",
    "from sklearn.preprocessing import StandardScaler\n",
    "scale = StandardScaler()\n",
    "all_dummies_scaled = all_dummies.copy()\n",
    "all_dummies_scaled[['Age','SibSp','Parch','norm_fare']] = scale.fit_transform(all_dummies_scaled[['Age','SibSp','Parch','norm_fare']])\n",
    "all_dummies_scaled\n",
    "\n",
    "X_train_scaled = all_dummies_scaled[all_dummies_scaled['train_test']==1].drop(['train_test'], axis=1)\n",
    "X_test_scaled = all_dummies_scaled[all_dummies_scaled['train_test']==0].drop(['train_test'], axis=1)\n",
    "\n",
    "y_train = all_data[all_data['train_test']==1]['Survived']"
   ]
  },
  {
   "cell_type": "markdown",
   "id": "7d564350",
   "metadata": {},
   "source": [
    "### Construcción del Modelo (Rendimiento de validación de referencia)\n",
    "\n",
    "Antes de profundizar. Sería bueno ver diferentes modelos realizados con parámetros predeterminados. Vamos a probar los siguientes modelos con una validación cruzada de 5 bloques para obtener una línea de base. Con una validación establecida de referencia, podemos ver cuánto mejora el ajuste en cada uno de los modelos. Solo porque un modelo tiene una alta referencia sobre el conjunto de validación no quiere decir que en realidad funcionará mejor en el conjunto final prueba,  'test set'\n",
    "\n",
    "* Naive Bayes (72.6%)\n",
    "* Logistic Regression (82.1%)\n",
    "* Decision Tree (77.6%)\n",
    "* K Nearest Neighbor (80.5%)\n",
    "* Random Forest (80.6%)\n",
    "* Support Vector Classifier (83.2%)\n",
    "* Xtreme Gradient Boosting (81.8%)\n",
    "* Soft Voting Classifier - All Models (82.8%)"
   ]
  },
  {
   "cell_type": "code",
   "execution_count": 32,
   "id": "ac0c8148",
   "metadata": {},
   "outputs": [],
   "source": [
    "from sklearn.model_selection import cross_val_score\n",
    "from sklearn.naive_bayes import GaussianNB\n",
    "from sklearn.linear_model import LogisticRegression\n",
    "from sklearn import tree\n",
    "from sklearn.neighbors import KNeighborsClassifier\n",
    "from sklearn.ensemble import RandomForestClassifier\n",
    "from sklearn.svm import SVC\n",
    "from xgboost import XGBClassifier"
   ]
  },
  {
   "cell_type": "code",
   "execution_count": 33,
   "id": "09f43362",
   "metadata": {},
   "outputs": [
    {
     "name": "stdout",
     "output_type": "stream",
     "text": [
      "[0.66853933 0.70224719 0.75842697 0.74719101 0.73446328]\n",
      "0.7221735542436362\n"
     ]
    }
   ],
   "source": [
    "# Usando naive-bayes como una referencia para la tareas de clasificación\n",
    "gnb = GaussianNB()\n",
    "cv = cross_val_score(gnb, X_train_scaled, y_train, cv = 5)\n",
    "print(cv)\n",
    "print(cv.mean())"
   ]
  },
  {
   "cell_type": "markdown",
   "id": "3487954b",
   "metadata": {},
   "source": [
    "Regresión Logística"
   ]
  },
  {
   "cell_type": "code",
   "execution_count": 34,
   "id": "8865d562",
   "metadata": {},
   "outputs": [
    {
     "name": "stdout",
     "output_type": "stream",
     "text": [
      "[0.82022472 0.80898876 0.80337079 0.82022472 0.85310734]\n",
      "0.8211832666793626\n"
     ]
    }
   ],
   "source": [
    "lr = LogisticRegression(max_iter=2000)\n",
    "cv = cross_val_score(lr, X_train, y_train, cv = 5)\n",
    "print(cv)\n",
    "print(cv.mean())"
   ]
  },
  {
   "cell_type": "code",
   "execution_count": 35,
   "id": "4ce0db3b",
   "metadata": {},
   "outputs": [
    {
     "name": "stdout",
     "output_type": "stream",
     "text": [
      "[0.82022472 0.80898876 0.80337079 0.82022472 0.85310734]\n",
      "0.8211832666793626\n"
     ]
    }
   ],
   "source": [
    "lr = LogisticRegression(max_iter=2000)\n",
    "cv = cross_val_score(lr, X_train_scaled, y_train, cv = 5)\n",
    "print(cv)\n",
    "print(cv.mean())"
   ]
  },
  {
   "cell_type": "markdown",
   "id": "bfaa8b23",
   "metadata": {},
   "source": [
    "Arbol de desición"
   ]
  },
  {
   "cell_type": "code",
   "execution_count": 36,
   "id": "8d90829e",
   "metadata": {},
   "outputs": [
    {
     "name": "stdout",
     "output_type": "stream",
     "text": [
      "[0.74719101 0.74157303 0.80898876 0.75842697 0.82485876]\n",
      "0.776207706468609\n"
     ]
    }
   ],
   "source": [
    "dt = tree.DecisionTreeClassifier(random_state=1)\n",
    "cv = cross_val_score(dt, X_train, y_train, cv = 5)\n",
    "print(cv)\n",
    "print(cv.mean())"
   ]
  },
  {
   "cell_type": "code",
   "execution_count": 37,
   "id": "fe4064e2",
   "metadata": {},
   "outputs": [
    {
     "name": "stdout",
     "output_type": "stream",
     "text": [
      "[0.74719101 0.74157303 0.80898876 0.75280899 0.81920904]\n",
      "0.7739541674601662\n"
     ]
    }
   ],
   "source": [
    "# Con datos escalados\n",
    "dt = tree.DecisionTreeClassifier(random_state=1)\n",
    "cv = cross_val_score(dt, X_train_scaled, y_train, cv = 5)\n",
    "print(cv)\n",
    "print(cv.mean())"
   ]
  },
  {
   "cell_type": "markdown",
   "id": "c62c4ba9",
   "metadata": {},
   "source": [
    "K Nearest Neighbor "
   ]
  },
  {
   "cell_type": "code",
   "execution_count": 38,
   "id": "cb34d6de",
   "metadata": {},
   "outputs": [
    {
     "name": "stdout",
     "output_type": "stream",
     "text": [
      "[0.76966292 0.80898876 0.80337079 0.81460674 0.83615819]\n",
      "0.8065574811147084\n"
     ]
    }
   ],
   "source": [
    "knn = KNeighborsClassifier()\n",
    "cv = cross_val_score(knn, X_train, y_train, cv = 5)\n",
    "print(cv)\n",
    "print(cv.mean())"
   ]
  },
  {
   "cell_type": "code",
   "execution_count": 39,
   "id": "f192447f",
   "metadata": {},
   "outputs": [
    {
     "name": "stdout",
     "output_type": "stream",
     "text": [
      "[0.79775281 0.79213483 0.83146067 0.80337079 0.85310734]\n",
      "0.8155652891512728\n"
     ]
    }
   ],
   "source": [
    "knn = KNeighborsClassifier()\n",
    "cv = cross_val_score(knn, X_train_scaled, y_train, cv = 5)\n",
    "print(cv)\n",
    "print(cv.mean())"
   ]
  },
  {
   "cell_type": "markdown",
   "id": "19aeadb2",
   "metadata": {},
   "source": [
    "Bosque Aleatorio"
   ]
  },
  {
   "cell_type": "code",
   "execution_count": 40,
   "id": "c0e038b7",
   "metadata": {},
   "outputs": [
    {
     "name": "stdout",
     "output_type": "stream",
     "text": [
      "[0.82022472 0.78651685 0.85393258 0.73033708 0.84180791]\n",
      "0.8065638291119152\n"
     ]
    }
   ],
   "source": [
    "rf = RandomForestClassifier(random_state=1)\n",
    "cv = cross_val_score(rf, X_train, y_train, cv = 5)\n",
    "print(cv)\n",
    "print(cv.mean())"
   ]
  },
  {
   "cell_type": "code",
   "execution_count": 41,
   "id": "31546558",
   "metadata": {},
   "outputs": [
    {
     "name": "stdout",
     "output_type": "stream",
     "text": [
      "[0.81460674 0.78651685 0.85393258 0.73033708 0.84180791]\n",
      "0.8054402336062972\n"
     ]
    }
   ],
   "source": [
    "rf = RandomForestClassifier(random_state=1)\n",
    "cv = cross_val_score(rf, X_train_scaled, y_train, cv = 5)\n",
    "print(cv)\n",
    "print(cv.mean())"
   ]
  },
  {
   "cell_type": "markdown",
   "id": "2d9a7d0f",
   "metadata": {},
   "source": [
    "Support Vector Classifier (SVC)"
   ]
  },
  {
   "cell_type": "code",
   "execution_count": 42,
   "id": "ecd14903",
   "metadata": {},
   "outputs": [
    {
     "name": "stdout",
     "output_type": "stream",
     "text": [
      "[0.68539326 0.76966292 0.71348315 0.71910112 0.74011299]\n",
      "0.7255506887576969\n"
     ]
    }
   ],
   "source": [
    "svc = SVC(probability=True)\n",
    "cv = cross_val_score(svc, X_train, y_train, cv = 5)\n",
    "print(cv)\n",
    "print(cv.mean())"
   ]
  },
  {
   "cell_type": "code",
   "execution_count": 43,
   "id": "2cf94c14",
   "metadata": {},
   "outputs": [
    {
     "name": "stdout",
     "output_type": "stream",
     "text": [
      "[0.84831461 0.82022472 0.8258427  0.80337079 0.86440678]\n",
      "0.8324319177299563\n"
     ]
    }
   ],
   "source": [
    "svc = SVC(probability=True)\n",
    "cv = cross_val_score(svc, X_train_scaled, y_train, cv = 5)\n",
    "print(cv)\n",
    "print(cv.mean())"
   ]
  },
  {
   "cell_type": "code",
   "execution_count": 44,
   "id": "7862cb93",
   "metadata": {},
   "outputs": [
    {
     "name": "stdout",
     "output_type": "stream",
     "text": [
      "[0.84831461 0.82022472 0.8258427  0.80337079 0.86440678]\n",
      "0.8324319177299563\n"
     ]
    }
   ],
   "source": [
    "xgb = XGBClassifier(random_state=1, use_label_encoder=False)\n",
    "cv = cross_val_score(svc, X_train_scaled, y_train, cv = 5)\n",
    "print(cv)\n",
    "print(cv.mean())"
   ]
  },
  {
   "cell_type": "markdown",
   "id": "89de4435",
   "metadata": {},
   "source": [
    "#### Clasificador de votación\n",
    "\n",
    "El clasificador de votación toma todas las entradas y promedia los resultados. Para un clasificador de votación 'difícil' cada clasificador obtiene un voto 'Ýes' o 'No' y el resultado es solo un voto popular. Para esto, tu generalmente quieres números impares.\n",
    "\n",
    "Un clasificador 'suave' promedia  la confianza de cada uno de los modelos. Si la confianza promedio es > 50%, de que es 1, se contará como tal."
   ]
  },
  {
   "cell_type": "code",
   "execution_count": 45,
   "id": "6599f75b",
   "metadata": {},
   "outputs": [],
   "source": [
    "from sklearn.ensemble import VotingClassifier\n",
    "voting_clf = VotingClassifier(estimators = [('lr',lr),('knn',knn),('rf',rf),('gnb',gnb),('svc',svc),\n",
    "                                            ('xgb',xgb)], voting = 'soft')"
   ]
  },
  {
   "cell_type": "code",
   "execution_count": 46,
   "id": "f100f705",
   "metadata": {},
   "outputs": [
    {
     "data": {
      "text/plain": [
       "VotingClassifier(estimators=[('lr', LogisticRegression(max_iter=2000)),\n",
       "                             ('knn', KNeighborsClassifier()),\n",
       "                             ('rf', RandomForestClassifier(random_state=1)),\n",
       "                             ('gnb', GaussianNB()),\n",
       "                             ('svc', SVC(probability=True)),\n",
       "                             ('xgb',\n",
       "                              XGBClassifier(base_score=None, booster=None,\n",
       "                                            colsample_bylevel=None,\n",
       "                                            colsample_bynode=None,\n",
       "                                            colsample_bytree=None,\n",
       "                                            enable_categorical=False,\n",
       "                                            gamma=None...\n",
       "                                            learning_rate=None,\n",
       "                                            max_delta_step=None, max_depth=None,\n",
       "                                            min_child_weight=None, missing=nan,\n",
       "                                            monotone_constraints=None,\n",
       "                                            n_estimators=100, n_jobs=None,\n",
       "                                            num_parallel_tree=None,\n",
       "                                            predictor=None, random_state=1,\n",
       "                                            reg_alpha=None, reg_lambda=None,\n",
       "                                            scale_pos_weight=None,\n",
       "                                            subsample=None, tree_method=None,\n",
       "                                            use_label_encoder=False,\n",
       "                                            validate_parameters=None,\n",
       "                                            verbosity=None))],\n",
       "                 voting='soft')"
      ]
     },
     "execution_count": 46,
     "metadata": {},
     "output_type": "execute_result"
    }
   ],
   "source": [
    "voting_clf"
   ]
  },
  {
   "cell_type": "code",
   "execution_count": 47,
   "id": "80fcf59f",
   "metadata": {},
   "outputs": [
    {
     "name": "stdout",
     "output_type": "stream",
     "text": [
      "[08:19:35] WARNING: ../src/learner.cc:1115: Starting in XGBoost 1.3.0, the default evaluation metric used with the objective 'binary:logistic' was changed from 'error' to 'logloss'. Explicitly set eval_metric if you'd like to restore the old behavior.\n",
      "[08:19:35] WARNING: ../src/learner.cc:1115: Starting in XGBoost 1.3.0, the default evaluation metric used with the objective 'binary:logistic' was changed from 'error' to 'logloss'. Explicitly set eval_metric if you'd like to restore the old behavior.\n",
      "[08:19:36] WARNING: ../src/learner.cc:1115: Starting in XGBoost 1.3.0, the default evaluation metric used with the objective 'binary:logistic' was changed from 'error' to 'logloss'. Explicitly set eval_metric if you'd like to restore the old behavior.\n",
      "[08:19:37] WARNING: ../src/learner.cc:1115: Starting in XGBoost 1.3.0, the default evaluation metric used with the objective 'binary:logistic' was changed from 'error' to 'logloss'. Explicitly set eval_metric if you'd like to restore the old behavior.\n",
      "[08:19:37] WARNING: ../src/learner.cc:1115: Starting in XGBoost 1.3.0, the default evaluation metric used with the objective 'binary:logistic' was changed from 'error' to 'logloss'. Explicitly set eval_metric if you'd like to restore the old behavior.\n",
      "[0.83146067 0.81460674 0.83146067 0.80337079 0.85875706]\n",
      "0.8279311877102774\n"
     ]
    }
   ],
   "source": [
    "cv = cross_val_score(voting_clf,X_train_scaled,y_train,cv=5)\n",
    "print(cv)\n",
    "print(cv.mean())"
   ]
  },
  {
   "cell_type": "markdown",
   "id": "0042ccf8",
   "metadata": {},
   "source": [
    "Ajustamos nuestro modelo seleccionador de algoritmos voting_clf con los datos de entrenamiento"
   ]
  },
  {
   "cell_type": "code",
   "execution_count": 48,
   "id": "ab5bcf3d",
   "metadata": {},
   "outputs": [
    {
     "name": "stdout",
     "output_type": "stream",
     "text": [
      "[08:19:38] WARNING: ../src/learner.cc:1115: Starting in XGBoost 1.3.0, the default evaluation metric used with the objective 'binary:logistic' was changed from 'error' to 'logloss'. Explicitly set eval_metric if you'd like to restore the old behavior.\n"
     ]
    }
   ],
   "source": [
    "# entrenamos el modelo con los datos de entrenamiento\n",
    "voting_clf.fit(X_train_scaled, y_train)\n",
    "# probamos el modelo a través de una prediccion usando los datos de prueba\n",
    "y_hat_base_cv = voting_clf.predict(X_test_scaled).astype(int)\n",
    "# Genero un archivo con los datos predichos\n",
    "basic_submission = {'PassengerId': test['PassengerId'], 'Survived': y_hat_base_cv}\n",
    "basic_submission = pd.DataFrame(data = basic_submission)\n",
    "basic_submission.to_csv('base_submission', index = False)\n"
   ]
  },
  {
   "cell_type": "markdown",
   "id": "a6a56dc4",
   "metadata": {},
   "source": [
    "### Rendimiento ajustado del modelo"
   ]
  },
  {
   "cell_type": "markdown",
   "id": "a64d1f38",
   "metadata": {},
   "source": [
    "Después de obtener la línea de base, veremos si podemos mejorar sobre los resultados del modelo individual, principalmente  se suele usar grid search para ajustar los modelos. Tmabién se suel usar Randomized Search para el Random Forest y el modelo XG boosted para simplificar el tiempo de prueba"
   ]
  },
  {
   "cell_type": "markdown",
   "id": "578d364c",
   "metadata": {},
   "source": [
    "| Modelo | Baseline | Rendimeinto ajustado |\n",
    "| -- | -- | -- |\n",
    "| Nave Bayes | 72.6% | NA |\n",
    "| Logistic Regression1 | 82.1% | 82.6% |\n",
    "| Decision Tree | 77.6% | NA |\n",
    "| K Nearest Neighbor | 80.5% | 83.0% |\n",
    "| Random Forest | 80.6% | 83.6% |\n",
    "| Support Vector Classifier | 83.2% | 83.2% |\n",
    "| Xtreme Gradient Boosting | 81.8% | 85.3% |"
   ]
  },
  {
   "cell_type": "code",
   "execution_count": 49,
   "id": "ace8240f",
   "metadata": {},
   "outputs": [],
   "source": [
    "#Importamos las librería para el ajuste del rendimiento\n",
    "from sklearn.model_selection import GridSearchCV\n",
    "from sklearn.model_selection import RandomizedSearchCV"
   ]
  },
  {
   "cell_type": "code",
   "execution_count": 50,
   "id": "99afd925",
   "metadata": {},
   "outputs": [],
   "source": [
    "# Función de reporte de rendimiento simple\n",
    "def clf_performance(classifier, model_name):\n",
    "    print(model_name)\n",
    "    print('Mejor puntuación: '+str(classifier.best_score_))\n",
    "    print('Mejores parámetros: '+str(classifier.best_params_))"
   ]
  },
  {
   "cell_type": "code",
   "execution_count": 51,
   "id": "20f5fcb5",
   "metadata": {},
   "outputs": [
    {
     "name": "stdout",
     "output_type": "stream",
     "text": [
      "Fitting 5 folds for each of 40 candidates, totalling 200 fits\n",
      "Logistic Regression\n",
      "Mejor puntuación: 0.8268075922046594\n",
      "Mejores parámetros: {'C': 1.623776739188721, 'max_iter': 2000, 'penalty': 'l1', 'solver': 'liblinear'}\n"
     ]
    }
   ],
   "source": [
    "lr = LogisticRegression()\n",
    "param_grid = {'max_iter' : [2000],\n",
    "              'penalty' : ['l1', 'l2'],\n",
    "              'C' : np.logspace(-4, 4, 20),\n",
    "              'solver' : ['liblinear']}\n",
    "\n",
    "clf_lr = GridSearchCV(lr, param_grid = param_grid, cv = 5, verbose = True, n_jobs = -1)\n",
    "best_clf_lr = clf_lr.fit(X_train_scaled,y_train)\n",
    "clf_performance(best_clf_lr,'Logistic Regression')"
   ]
  },
  {
   "cell_type": "code",
   "execution_count": 52,
   "id": "d4077a14",
   "metadata": {},
   "outputs": [
    {
     "name": "stdout",
     "output_type": "stream",
     "text": [
      "Fitting 5 folds for each of 48 candidates, totalling 240 fits\n",
      "KNN\n",
      "Mejor puntuación: 0.8301720307243065\n",
      "Mejores parámetros: {'algorithm': 'auto', 'n_neighbors': 7, 'p': 2, 'weights': 'uniform'}\n"
     ]
    }
   ],
   "source": [
    "knn= KNeighborsClassifier()\n",
    "param_grid = {'n_neighbors' : [3,5,7,9],\n",
    "              'weights' : ['uniform', 'distance'],\n",
    "              'algorithm' : ['auto', 'ball_tree', 'kd_tree'],\n",
    "              'p': [1,2]}\n",
    "clf_knn = GridSearchCV(knn, param_grid=param_grid, cv=5, verbose=True, n_jobs=-1)\n",
    "best_clf_knn = clf_knn.fit(X_train_scaled,y_train)\n",
    "clf_performance(best_clf_knn,'KNN')"
   ]
  },
  {
   "cell_type": "code",
   "execution_count": 53,
   "id": "cc21ba10",
   "metadata": {},
   "outputs": [
    {
     "name": "stdout",
     "output_type": "stream",
     "text": [
      "Fitting 5 folds for each of 55 candidates, totalling 275 fits\n",
      "SVC\n",
      "Mejor puntuación: 0.8324319177299563\n",
      "Mejores parámetros: {'C': 1, 'gamma': 0.1, 'kernel': 'rbf'}\n"
     ]
    }
   ],
   "source": [
    "svc = SVC(probability = True)\n",
    "param_grid = tuned_parameters = [{'kernel': ['rbf'], 'gamma': [.1,.5,1,2,5,10],\n",
    "                                  'C': [.1, 1, 10, 100, 1000]},\n",
    "                                 {'kernel': ['linear'], 'C': [.1, 1, 10, 100, 1000]},\n",
    "                                 {'kernel': ['poly'], 'degree' : [2,3,4,5], 'C': [.1, 1, 10, 100, 1000]}]\n",
    "clf_svc = GridSearchCV(svc, param_grid = param_grid, cv = 5, verbose = True, n_jobs = -1)\n",
    "best_clf_svc = clf_svc.fit(X_train_scaled,y_train)\n",
    "clf_performance(best_clf_svc,'SVC')"
   ]
  },
  {
   "cell_type": "markdown",
   "id": "3a240708",
   "metadata": {},
   "source": [
    "Debido a que el espacio total de features es demasiado largo, se suele usar Randomized Search para reducir los parámetros para el modelo. Se tomo el mejor modelo de estey se hizo una investigación más granular  "
   ]
  },
  {
   "cell_type": "code",
   "execution_count": 54,
   "id": "1e5f8f69",
   "metadata": {},
   "outputs": [
    {
     "name": "stdout",
     "output_type": "stream",
     "text": [
      "Fitting 5 folds for each of 288 candidates, totalling 1440 fits\n",
      "Random Forest\n",
      "Mejor puntuación: 0.8358027042468101\n",
      "Mejores parámetros: {'bootstrap': True, 'criterion': 'gini', 'max_depth': 20, 'max_features': 10, 'min_samples_leaf': 2, 'min_samples_split': 2, 'n_estimators': 500}\n"
     ]
    }
   ],
   "source": [
    "rf = RandomForestClassifier(random_state=1)\n",
    "param_grid = {'n_estimators': [400,450,500,550],\n",
    "                                 'criterion':['gini','entropy'],\n",
    "                                  'bootstrap': [True],\n",
    "                                  'max_depth': [15, 20, 25],\n",
    "                                  'max_features': ['auto','sqrt', 10],\n",
    "                                  'min_samples_leaf': [2,3],\n",
    "                                  'min_samples_split': [2,3]}\n",
    "clf_rf = GridSearchCV(rf, param_grid = param_grid, cv = 5, verbose = True, n_jobs = -1)\n",
    "best_clf_rf = clf_rf.fit(X_train_scaled,y_train)\n",
    "clf_performance(best_clf_rf,'Random Forest')"
   ]
  },
  {
   "cell_type": "code",
   "execution_count": 57,
   "id": "07aa506b",
   "metadata": {},
   "outputs": [
    {
     "data": {
      "text/plain": [
       "<AxesSubplot:>"
      ]
     },
     "execution_count": 57,
     "metadata": {},
     "output_type": "execute_result"
    },
    {
     "data": {
      "image/png": "[encoded data removed]",
      "text/plain": [
       "<Figure size 432x288 with 1 Axes>"
      ]
     },
     "metadata": {
      "needs_background": "light"
     },
     "output_type": "display_data"
    }
   ],
   "source": [
    "best_rf = best_clf_rf.best_estimator_.fit(X_train_scaled, y_train)\n",
    "feat_importances = pd.Series(best_rf.feature_importances_, index  =X_train_scaled.columns)\n",
    "feat_importances.nlargest(20).plot(kind='barh')"
   ]
  },
  {
   "cell_type": "code",
   "execution_count": 65,
   "id": "66763752",
   "metadata": {},
   "outputs": [
    {
     "name": "stdout",
     "output_type": "stream",
     "text": [
      "Fitting 5 folds for each of 243 candidates, totalling 1215 fits\n",
      "XGB\n",
      "Mejor puntuación: 0.8537865803339046\n",
      "Mejores parámetros: {'colsample_bytree': 0.8, 'gamma': 1, 'learning_rate': 0.5, 'max_depth': None, 'min_child_weight': 0.01, 'n_estimators': 500, 'reg_alpha': 1, 'reg_lambda': 5, 'sampling_method': 'uniform', 'subsample': 0.65}\n"
     ]
    }
   ],
   "source": [
    "xgb = XGBClassifier(random_state=1, use_label_encoder=False, eval_metric = 'logloss')\n",
    "\n",
    "param_grid =  {\n",
    "    'n_estimators': [450,500,550],\n",
    "    'colsample_bytree': [0.75,0.8,0.85],\n",
    "    'max_depth': [None],\n",
    "    'reg_alpha': [1],\n",
    "    'reg_lambda': [2, 5, 10],\n",
    "    'subsample': [0.55, 0.6, .65],\n",
    "    'learning_rate':[0.5],\n",
    "    'gamma':[.5,1,2],\n",
    "    'min_child_weight':[0.01],\n",
    "    'sampling_method': ['uniform']\n",
    "}\n",
    "\n",
    "clf_xgb = GridSearchCV(xgb, param_grid = param_grid, cv=5, verbose=True, n_jobs = -1)\n",
    "best_clf_xgb = clf_xgb.fit(X_train_scaled, y_train)\n",
    "clf_performance(best_clf_xgb, 'XGB')"
   ]
  },
  {
   "cell_type": "code",
   "execution_count": 67,
   "id": "bc6e4cd4",
   "metadata": {},
   "outputs": [],
   "source": [
    "y_hat_xgb  = best_clf_xgb.best_estimator_.predict(X_test_scaled).astype(int)\n",
    "xgb_submission = {'PassengerId': test.PassengerId, 'Survived': y_hat_xgb}\n",
    "submission_xgb = pd.DataFrame(data=xgb_submission)\n",
    "submission_xgb.to_csv('xgb_submission3.csv', index =False)"
   ]
  },
  {
   "cell_type": "markdown",
   "id": "0597a4a3",
   "metadata": {},
   "source": [
    "### Modelo de enfoques de conjuntos adicionales"
   ]
  },
  {
   "cell_type": "markdown",
   "id": "47f159bc",
   "metadata": {},
   "source": [
    "1) Se experiementa con un clasificador de votación fuerte de tres estimadores (KNN, SVM, RF) (81.6%)\n",
    "\n",
    "2) Se experiementa con un clasificador de votación suave de tres estimadores (KNN, SVM, RF) (82.3%)(Mejor rendimiento)\n",
    "\n",
    "3) Se experimenta con votación suaves sobre todos los estimadores que rinden mejor que el 80% excepto xgb(KNN, RF, LR, SVC)(82,9%)\n",
    "\n",
    "4) Se experimenta con voatación suave sobre todos los estimadores incluyenbdo XGB (KNN, SVM, RF, LR, XGB)(83.5%) \n",
    "    "
   ]
  },
  {
   "cell_type": "code",
   "execution_count": 75,
   "id": "f77ef445",
   "metadata": {},
   "outputs": [
    {
     "name": "stdout",
     "output_type": "stream",
     "text": [
      "voting_clf_hard : [0.79213483 0.81460674 0.8258427  0.80898876 0.83615819]\n",
      "voting_clf_hard mean: 0.8155462451596522\n",
      "voting_clf_soft : [0.78651685 0.83146067 0.82022472 0.80898876 0.86440678]\n",
      "voting_clf_soft mean: 0.8234431536850124\n",
      "voting_clf_all : [0.80898876 0.83146067 0.8258427  0.81460674 0.86440678]\n",
      "voting_clf_all mean: 0.8290611312131023\n",
      "voting_clf_xgb : [0.80898876 0.83146067 0.8258427  0.81460674 0.86440678]\n",
      "voting_clf_xgb mean: 0.8290611312131023\n"
     ]
    }
   ],
   "source": [
    "best_lr = best_clf_lr.best_estimator_\n",
    "best_knn = best_clf_knn.best_estimator_\n",
    "best_svc = best_clf_svc.best_estimator_\n",
    "best_rf = best_clf_rf.best_estimator_\n",
    "best_xgb = best_clf_xgb.best_estimator_\n",
    "\n",
    "voting_clf_hard = VotingClassifier(estimators = [('knn', best_knn), ('rf', best_rf), ('svc', best_svc)], voting = 'hard')\n",
    "voting_clf_soft = VotingClassifier(estimators = [('knn', best_knn), ('rf', best_rf), ('svc', best_svc)], voting = 'soft')\n",
    "voting_clf_all = VotingClassifier(estimators = [('knn', best_knn), ('rf', best_rf), ('svc', best_svc), ('lr', best_lr)],\n",
    "                                  voting = 'soft')\n",
    "voting_clf_xgb = VotingClassifier(estimators = [('knn', best_knn), ('rf', best_rf), ('svc', best_svc),('lr', best_lr)], \n",
    "                                  voting = 'soft')\n",
    "\n",
    "print('voting_clf_hard :', cross_val_score(voting_clf_hard, X_train, y_train, cv = 5))\n",
    "print('voting_clf_hard mean:', cross_val_score(voting_clf_hard, X_train, y_train, cv = 5).mean())\n",
    "\n",
    "print('voting_clf_soft :', cross_val_score(voting_clf_soft, X_train, y_train, cv = 5))\n",
    "print('voting_clf_soft mean:', cross_val_score(voting_clf_soft, X_train, y_train, cv = 5).mean())\n",
    "\n",
    "print('voting_clf_all :', cross_val_score(voting_clf_all, X_train, y_train, cv = 5))\n",
    "print('voting_clf_all mean:', cross_val_score(voting_clf_all, X_train, y_train, cv = 5).mean())\n",
    "\n",
    "print('voting_clf_xgb :', cross_val_score(voting_clf_xgb, X_train, y_train, cv = 5))\n",
    "print('voting_clf_xgb mean:', cross_val_score(voting_clf_xgb, X_train, y_train, cv = 5).mean())"
   ]
  },
  {
   "cell_type": "markdown",
   "id": "320567c4",
   "metadata": {},
   "source": [
    "En un clasificador de votación suave tu puedes pesar algunos modelos mas que otros. Se suele usar GRid Search para explorar diferentes ponderaciones"
   ]
  },
  {
   "cell_type": "code",
   "execution_count": 78,
   "id": "e13195d9",
   "metadata": {},
   "outputs": [
    {
     "name": "stdout",
     "output_type": "stream",
     "text": [
      "Fitting 5 folds for each of 7 candidates, totalling 35 fits\n",
      "VC Weights\n",
      "Mejor puntuación: 0.8324446137243701\n",
      "Mejores parámetros: {'weights': [1, 1, 1]}\n"
     ]
    }
   ],
   "source": [
    "params = {'weights': [[1,1,1], [1,2,1], [1,1,2], [2,1,1], [2,2,1],[1,2,2], [2,1,2]]}\n",
    "\n",
    "vote_weight = GridSearchCV(voting_clf_soft, param_grid=params, cv=5, verbose=True, n_jobs=-1 )\n",
    "best_clf_weight = vote_weight.fit(X_train_scaled, y_train)\n",
    "clf_performance(best_clf_weight, 'VC Weights')\n",
    "voting_clf_sub = best_clf_weight.best_estimator_.predict(X_test_scaled)\n"
   ]
  },
  {
   "cell_type": "code",
   "execution_count": 81,
   "id": "fc49f98b",
   "metadata": {},
   "outputs": [],
   "source": [
    "# Haciendo predicciones\n",
    "voting_clf_hard.fit(X_train_scaled, y_train)\n",
    "voting_clf_soft.fit(X_train_scaled, y_train)\n",
    "voting_clf_all.fit(X_train_scaled, y_train)\n",
    "voting_clf_xgb.fit(X_train_scaled, y_train)\n",
    "\n",
    "best_rf.fit(X_train_scaled, y_train)\n",
    "y_hat_vc_hard = voting_clf_hard.predict(X_test_scaled).astype(int)\n",
    "y_hat_rf = best_rf.predict(X_test_scaled).astype(int)\n",
    "y_hat_vc_soft = voting_clf_soft.predict(X_test_scaled).astype(int)\n",
    "y_hat_vc_all = voting_clf_all.predict(X_test_scaled).astype(int)\n",
    "y_hat_vc_xgb = voting_clf_xgb.predict(X_test_scaled).astype(int)"
   ]
  },
  {
   "cell_type": "code",
   "execution_count": 88,
   "id": "de50a35d",
   "metadata": {},
   "outputs": [],
   "source": [
    "# Convert las salidas imos a Dataframe\n",
    "final_data = {'PassengerId': test.PassengerId, 'Surivived': y_hat_rf}\n",
    "submission = pd.DataFrame(data = final_data)\n",
    "\n",
    "final_data_2 = {'PassengerId': test.PassengerId, 'Surivived': y_hat_vc_hard}\n",
    "submission_2 = pd.DataFrame(data = final_data_2)\n",
    "\n",
    "final_data_3 = {'PassengerId': test.PassengerId, 'Surivived': y_hat_vc_soft}\n",
    "submission_3 = pd.DataFrame(data = final_data_3)\n",
    "\n",
    "final_data_4 = {'PassengerId': test.PassengerId, 'Surivived': y_hat_vc_all}\n",
    "submission_4 = pd.DataFrame(data = final_data_4)\n",
    "\n",
    "final_data_5 = {'PassengerId': test.PassengerId, 'Surivived': y_hat_vc_xgb}\n",
    "submission_5 = pd.DataFrame(data = final_data_5)\n",
    "\n",
    "final_data_comp = {'PassengerId': test.PassengerId, 'Survived_vc_hard': y_hat_vc_hard, \n",
    "                   'Survived_rf': y_hat_rf, 'Survived_vc_soft': y_hat_vc_soft, 'Survived_vc_all': y_hat_vc_all,\n",
    "                  'Survived_vc_xgb': y_hat_vc_xgb}\n",
    "comparison = pd.DataFrame(data = final_data_comp)"
   ]
  },
  {
   "cell_type": "code",
   "execution_count": 89,
   "id": "f4343e7c",
   "metadata": {},
   "outputs": [],
   "source": [
    "# Rastreando diferencias entre salidas\n",
    "comparison['difference_rf_vc_hard'] = comparison.apply(lambda x: 1 if x['Survived_vc_hard'] != x['Survived_rf'] else 0, axis=1)\n",
    "comparison['difference_soft_hard'] = comparison.apply(lambda x: 1 if x['Survived_vc_hard'] != x['Survived_vc_soft'] else 0, axis=1)\n",
    "comparison['difference_hard_all'] = comparison.apply(lambda x: 1 if x['Survived_vc_all'] != x['Survived_vc_hard'] else 0, axis=1)\n"
   ]
  },
  {
   "cell_type": "code",
   "execution_count": 90,
   "id": "693e0bec",
   "metadata": {},
   "outputs": [
    {
     "data": {
      "text/plain": [
       "0    410\n",
       "1      8\n",
       "Name: difference_hard_all, dtype: int64"
      ]
     },
     "execution_count": 90,
     "metadata": {},
     "output_type": "execute_result"
    }
   ],
   "source": [
    "comparison.difference_hard_all.value_counts()"
   ]
  },
  {
   "cell_type": "code",
   "execution_count": 91,
   "id": "9b48e0c0",
   "metadata": {},
   "outputs": [],
   "source": [
    "# Preparación de archivos de presentación\n",
    "\n",
    "submission.to_csv('submission_rf.csv', index =False)\n",
    "submission_2.to_csv('submission_vc_hard.csv',index=False)\n",
    "submission_3.to_csv('submission_vc_soft.csv', index=False)\n",
    "submission_4.to_csv('submission_vc_all.csv', index=False)\n",
    "submission_5.to_csv('submission_vc_xgb2.csv', index=False)"
   ]
  },
  {
   "cell_type": "code",
   "execution_count": null,
   "id": "679c78d4",
   "metadata": {},
   "outputs": [],
   "source": [
    "# Probando librerías para estandarizar varibales categóricas\n",
    "df_r = training\n",
    "import sklearn.preprocessing as preprocessing\n",
    "encoder =  preprocessing.OneHotEncoder(handle_unknown='ignore')\n",
    "encoder.fit(df_r[['Pclass']].values)\n",
    "\n",
    "encoder.transform([[1],[2],[3]]).toarray()"
   ]
  },
  {
   "cell_type": "code",
   "execution_count": null,
   "id": "743ed32c",
   "metadata": {},
   "outputs": [],
   "source": [
    "matriz = np.array([1,2,3,4,5,6,7,8,])\n",
    "matriz = matriz.reshape(1,-1)\n",
    "matriz"
   ]
  },
  {
   "cell_type": "code",
   "execution_count": null,
   "id": "4c0302b4",
   "metadata": {},
   "outputs": [],
   "source": [
    "pd.get_dummies(df_r['Pclass'])"
   ]
  },
  {
   "cell_type": "code",
   "execution_count": null,
   "id": "0300977d",
   "metadata": {},
   "outputs": [],
   "source": []
  }
 ],
 "metadata": {
  "kernelspec": {
   "display_name": "Python 3 (ipykernel)",
   "language": "python",
   "name": "python3"
  },
  "language_info": {
   "codemirror_mode": {
    "name": "ipython",
    "version": 3
   },
   "file_extension": ".py",
   "mimetype": "text/x-python",
   "name": "python",
   "nbconvert_exporter": "python",
   "pygments_lexer": "ipython3",
   "version": "3.9.7"
  }
 },
 "nbformat": 4,
 "nbformat_minor": 5
}
